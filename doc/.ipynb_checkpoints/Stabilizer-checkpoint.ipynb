{
 "cells": [
  {
   "cell_type": "code",
   "execution_count": 1,
   "id": "91ced1e8-5527-4071-919b-d60cfc0d0027",
   "metadata": {},
   "outputs": [],
   "source": [
    "from context import *"
   ]
  },
  {
   "cell_type": "markdown",
   "id": "1b6ee092-eb7e-4072-8f90-64e12f48fa34",
   "metadata": {},
   "source": [
    "# Stablizer Formalism (`stabilizer`)"
   ]
  },
  {
   "cell_type": "markdown",
   "id": "01e9878a-3d40-40b4-90d1-3ebb6efa1f8f",
   "metadata": {},
   "source": [
    "## General Idea: State-Map Duality"
   ]
  },
  {
   "cell_type": "markdown",
   "id": "53ed4441-fc87-4b10-a8fa-584a952da81e",
   "metadata": {},
   "source": [
    "Every stabilizer state $\\rho$ is dual to a Clifford unitary $U$, such that the state can be generated from the zero state $|00\\cdots0\\rangle$ as\n",
    "$$\\rho = U|00\\cdots0\\rangle\\langle 00\\cdots0|U^\\dagger$$.\n",
    "Both $\\rho$ and $U$ describes a stabilizer code:\n",
    "* $\\rho$ is a projection operator that specifies the code subspace of the stabilizer code.\n",
    "* $U$ is the encoding Clifford unitary that encodes the logical + syndrome qubits to the physical qubits in the stabilizer code.\n",
    "\n",
    "The package `stabilizer` (based on `paulialg`) provides related functions to represent stabilizer states and Clifford maps. There are two classes defined in this package.\n",
    "\n",
    "* `stabilizer.CliffordMap`. Since the Clifford unitary $U$ maps Pauli operators to Pauli operators, it is sufficient to specify a Clifford unitary by how each single-qubit Pauli operator transforms under the unitary. Such transformation rules are stored in a table called the Clifford map.\n",
    "\n",
    "* `stabilizer.StabilizerState`. The stabilizer state is specified by a set of stabilizers and the corresponding destabilizers. Using the binary representation of Pauli operators, they can be stored in a table, called the stabilizer tableau. \n",
    "\n",
    "Since both classes need to store a table of Pauli operators, they are both realized as subclasses of `paulialg.PauliList`."
   ]
  },
  {
   "cell_type": "markdown",
   "id": "33abd7ca-ad56-4843-90dc-faf65d007c60",
   "metadata": {},
   "source": [
    "## Basic Usage"
   ]
  },
  {
   "cell_type": "markdown",
   "id": "3193dae6-9ce6-41cf-9b2c-4bdea3e016e3",
   "metadata": {},
   "source": [
    "---"
   ]
  },
  {
   "cell_type": "markdown",
   "id": "9ab056bf-7362-4533-965d-4510a0e89a20",
   "metadata": {},
   "source": [
    "### Constructors"
   ]
  },
  {
   "cell_type": "markdown",
   "id": "9eedc7ad-eef7-44a5-8623-ac9786043f8c",
   "metadata": {},
   "source": [
    "#### Construct Clifford Maps"
   ]
  },
  {
   "cell_type": "markdown",
   "id": "1618c9d5-bf2a-4cd1-a86f-e0032816636c",
   "metadata": {},
   "source": [
    "`identity_map(N)` constructs an identity Clifford map on $N$ qubits."
   ]
  },
  {
   "cell_type": "code",
   "execution_count": 2,
   "id": "105afc01-c68b-4a17-bdc7-add825a97ceb",
   "metadata": {},
   "outputs": [
    {
     "data": {
      "text/plain": [
       "CliffordMap(\n",
       "  X0-> +XIII\n",
       "  Z0-> +ZIII\n",
       "  X1-> +IXII\n",
       "  Z1-> +IZII\n",
       "  X2-> +IIXI\n",
       "  Z2-> +IIZI\n",
       "  X3-> +IIIX\n",
       "  Z3-> +IIIZ)"
      ]
     },
     "execution_count": 2,
     "metadata": {},
     "output_type": "execute_result"
    }
   ],
   "source": [
    "stabilizer.identity_map(4)"
   ]
  },
  {
   "cell_type": "markdown",
   "id": "9faf6fee-ac08-49f8-9605-9a99b6454b94",
   "metadata": {},
   "source": [
    "`random_pauli_map(N)` samples a random Clifford map made of random single-qubit Clifford gates on $N$ qubits, i.e. $U=\\prod_i U_i\\in\\mathrm{Cl}(2)^N$. Each realization specifies a random local Pauli basis."
   ]
  },
  {
   "cell_type": "code",
   "execution_count": 3,
   "id": "e21184c0-5539-4989-badf-ff7913919ea0",
   "metadata": {},
   "outputs": [
    {
     "data": {
      "text/plain": [
       "CliffordMap(\n",
       "  X0-> -YIII\n",
       "  Z0-> +XIII\n",
       "  X1-> -IXII\n",
       "  Z1-> +IZII\n",
       "  X2-> -IIYI\n",
       "  Z2-> -IIZI\n",
       "  X3-> +IIIX\n",
       "  Z3-> -IIIZ)"
      ]
     },
     "execution_count": 3,
     "metadata": {},
     "output_type": "execute_result"
    }
   ],
   "source": [
    "stabilizer.random_pauli_map(4)"
   ]
  },
  {
   "cell_type": "markdown",
   "id": "7267f4dc-36f9-4963-8b9c-a9faa0e7ec20",
   "metadata": {},
   "source": [
    "`random_clifford_map(N)` samples a globally random Clifford map on $N$ qubits, i.e. $U\\in\\mathrm{Cl}(2^N)$. Each realization specifies a random global stabilizer basis."
   ]
  },
  {
   "cell_type": "code",
   "execution_count": 5,
   "id": "955cc4e9-66c3-4ff8-bca6-c4ed68225327",
   "metadata": {},
   "outputs": [
    {
     "data": {
      "text/plain": [
       "CliffordMap(\n",
       "  X0-> +XYYI\n",
       "  Z0-> -IZIX\n",
       "  X1-> +ZZII\n",
       "  Z1-> +IYIY\n",
       "  X2-> -XXZZ\n",
       "  Z2-> -ZIZI\n",
       "  X3-> +YXYZ\n",
       "  Z3-> +YYXY)"
      ]
     },
     "execution_count": 5,
     "metadata": {},
     "output_type": "execute_result"
    }
   ],
   "source": [
    "stabilizer.random_clifford_map(4)"
   ]
  },
  {
   "cell_type": "markdown",
   "id": "8350ccfc-b471-41c2-a30c-741476880ba3",
   "metadata": {},
   "source": [
    "`clifford_rotation_map(N)` constructs a Clifford map based for a Clifford rotation given its generator."
   ]
  },
  {
   "cell_type": "code",
   "execution_count": 6,
   "id": "73c6779e-d58c-48fa-8dcc-52e7cd69a228",
   "metadata": {},
   "outputs": [
    {
     "data": {
      "text/plain": [
       "CliffordMap(\n",
       "  X0-> +XIII\n",
       "  Z0-> +YXYZ\n",
       "  X1-> +IXII\n",
       "  Z1-> +XYYZ\n",
       "  X2-> +XXZZ\n",
       "  Z2-> -XXXZ\n",
       "  X3-> -XXYY\n",
       "  Z3-> +IIIZ)"
      ]
     },
     "execution_count": 6,
     "metadata": {},
     "output_type": "execute_result"
    }
   ],
   "source": [
    "stabilizer.clifford_rotation_map('-XXYZ')"
   ]
  },
  {
   "cell_type": "markdown",
   "id": "670603a1-7349-4024-a59a-ea1a73124958",
   "metadata": {},
   "source": [
    "#### Construct Stabilizer States"
   ]
  },
  {
   "cell_type": "markdown",
   "id": "205d2818-521c-420e-9aeb-a4c715ef8daf",
   "metadata": {},
   "source": [
    "`maximally_mixed_state(N)` constructs a $N$-qubit maximally mixed state (by setting the density matrix to full rank).\n",
    "$$\\rho=2^{-N}\\mathbb{1}.$$"
   ]
  },
  {
   "cell_type": "code",
   "execution_count": 9,
   "id": "55af9c94-461d-49e3-97c9-8df3d369433c",
   "metadata": {},
   "outputs": [
    {
     "data": {
      "text/plain": [
       "StabilizerState()"
      ]
     },
     "execution_count": 9,
     "metadata": {},
     "output_type": "execute_result"
    }
   ],
   "source": [
    "stabilizer.maximally_mixed_state(4)"
   ]
  },
  {
   "cell_type": "markdown",
   "id": "9b0dd1db-92ba-42a8-8678-130a5bcbf99d",
   "metadata": {},
   "source": [
    "`zero_state(N)` constructs a $N$-qubit all-zero state \n",
    "$$\\rho=|0\\cdots0\\rangle\\langle 0\\cdots0|=\\prod_{i}\\frac{1+Z_i}{2}.$$"
   ]
  },
  {
   "cell_type": "code",
   "execution_count": 10,
   "id": "11393d35-a9dc-4e7b-9013-816bc43fc950",
   "metadata": {},
   "outputs": [
    {
     "data": {
      "text/plain": [
       "StabilizerState(\n",
       "   +ZIII\n",
       "   +IZII\n",
       "   +IIZI\n",
       "   +IIIZ)"
      ]
     },
     "execution_count": 10,
     "metadata": {},
     "output_type": "execute_result"
    }
   ],
   "source": [
    "stabilizer.zero_state(4)"
   ]
  },
  {
   "cell_type": "markdown",
   "id": "4a86fbf8-5f2a-4fae-bc70-636452574550",
   "metadata": {},
   "source": [
    "`one_state(N)` constructs a $N$-qubit all-one state \n",
    "$$\\rho=|1\\cdots1\\rangle\\langle 1\\cdots1|=\\prod_{i}\\frac{1-Z_i}{2}.$$"
   ]
  },
  {
   "cell_type": "code",
   "execution_count": 11,
   "id": "42d997e0-0b97-4b58-8866-eeb0a654dd71",
   "metadata": {},
   "outputs": [
    {
     "data": {
      "text/plain": [
       "StabilizerState(\n",
       "   -ZIII\n",
       "   -IZII\n",
       "   -IIZI\n",
       "   -IIIZ)"
      ]
     },
     "execution_count": 11,
     "metadata": {},
     "output_type": "execute_result"
    }
   ],
   "source": [
    "stabilizer.one_state(4)"
   ]
  },
  {
   "cell_type": "markdown",
   "id": "bafe9fdb-4c50-4a0b-a240-eeab5740217d",
   "metadata": {},
   "source": [
    "`ghz_state(N)` constructs a $N$-qubit GHZ state\n",
    "$$\\rho = |\\Psi\\rangle\\langle\\Psi|, \\qquad \\text{with }|\\Psi\\rangle=\\frac{1}{\\sqrt{2}}(|0\\cdots0\\rangle+|1\\cdots1\\rangle).$$"
   ]
  },
  {
   "cell_type": "code",
   "execution_count": 12,
   "id": "5586e3df-3e74-4c1a-b54c-4df28e0a32eb",
   "metadata": {},
   "outputs": [
    {
     "data": {
      "text/plain": [
       "StabilizerState(\n",
       "   +XXXX\n",
       "   +IIZZ\n",
       "   +IZZI\n",
       "   +ZZII)"
      ]
     },
     "execution_count": 12,
     "metadata": {},
     "output_type": "execute_result"
    }
   ],
   "source": [
    "stabilizer.ghz_state(4)"
   ]
  },
  {
   "cell_type": "markdown",
   "id": "2fbf7136-7102-406e-8ea9-0b966f478872",
   "metadata": {},
   "source": [
    "`random_pauli_map(N)` samples a $N$ qubit random Pauli state.\n",
    "$$\\rho=U|0\\cdots0\\rangle\\langle 0\\cdots0|U^\\dagger,\\qquad\\text{with }U\\in \\mathrm{Cl}(2)^N.$$"
   ]
  },
  {
   "cell_type": "code",
   "execution_count": 14,
   "id": "16f6287f-695e-4198-9ba1-6f99b3a9261f",
   "metadata": {},
   "outputs": [
    {
     "data": {
      "text/plain": [
       "CliffordMap(\n",
       "  X0-> +XIII\n",
       "  Z0-> -ZIII\n",
       "  X1-> -IXII\n",
       "  Z1-> +IZII\n",
       "  X2-> -IIYI\n",
       "  Z2-> +IIXI\n",
       "  X3-> -IIIZ\n",
       "  Z3-> +IIIX)"
      ]
     },
     "execution_count": 14,
     "metadata": {},
     "output_type": "execute_result"
    }
   ],
   "source": [
    "stabilizer.random_pauli_map(4)"
   ]
  },
  {
   "cell_type": "markdown",
   "id": "9dc53700-5c5e-4d38-91ce-f471d5558c9b",
   "metadata": {},
   "source": [
    "`random_clifford_map(N)` samples a $N$ qubit random Clifford (random stabilizer) state.\n",
    "$$\\rho=U|0\\cdots0\\rangle\\langle 0\\cdots0|U^\\dagger,\\qquad\\text{with }U\\in \\mathrm{Cl}(2^N).$$"
   ]
  },
  {
   "cell_type": "code",
   "execution_count": 15,
   "id": "d2b37e3e-7ca6-49b1-9cc0-eaac7f6a1096",
   "metadata": {},
   "outputs": [
    {
     "data": {
      "text/plain": [
       "StabilizerState(\n",
       "   +ZZZY\n",
       "   -XZIZ\n",
       "   +YYYZ\n",
       "   +IYZX)"
      ]
     },
     "execution_count": 15,
     "metadata": {},
     "output_type": "execute_result"
    }
   ],
   "source": [
    "stabilizer.random_clifford_state(4)"
   ]
  },
  {
   "cell_type": "markdown",
   "id": "b8951bce-78fb-4f3d-8ae1-b1edafe58484",
   "metadata": {},
   "source": [
    "`stabilizer_state(...)` is a universal constructor of stabilizer state by specifying all stabilizers."
   ]
  },
  {
   "cell_type": "code",
   "execution_count": 22,
   "id": "9ce29eb2-1d5b-4e93-92b7-7ce1afe565d4",
   "metadata": {},
   "outputs": [
    {
     "data": {
      "text/plain": [
       "StabilizerState(\n",
       "   +IZZ\n",
       "   +ZZI\n",
       "   +XXY)"
      ]
     },
     "execution_count": 22,
     "metadata": {},
     "output_type": "execute_result"
    }
   ],
   "source": [
    "stabilizer.stabilizer_state('XXY','ZZI','IZZ')"
   ]
  },
  {
   "cell_type": "markdown",
   "id": "cdf7b9cf-559e-4943-a645-3fef7580efe4",
   "metadata": {},
   "source": [
    "A hack to inspect the full stabilizer tableau is by converting `StabilizerState` to `PauliList` by"
   ]
  },
  {
   "cell_type": "code",
   "execution_count": 23,
   "id": "2e868a7e-7fa0-436f-acb6-388abff04e49",
   "metadata": {},
   "outputs": [
    {
     "data": {
      "text/plain": [
       " +IZZ\n",
       " +ZZI\n",
       " +XXY\n",
       " +ZIX\n",
       " +ZXX\n",
       " +ZII"
      ]
     },
     "execution_count": 23,
     "metadata": {},
     "output_type": "execute_result"
    }
   ],
   "source": [
    "stabilizer.stabilizer_state('XXY','ZZI','IZZ')[:]"
   ]
  },
  {
   "cell_type": "markdown",
   "id": "040834b9-4980-4e2f-9938-a9db4509e7f8",
   "metadata": {},
   "source": [
    "<div class=\"alert alert-block alert-danger\">\n",
    "User need to <b>ensure</b> that stabilizers commute with each other, otherwise an error will be raised.\n",
    "</div>"
   ]
  },
  {
   "cell_type": "code",
   "execution_count": 24,
   "id": "c7743529-70c3-4ff3-acc5-88de8cab4c65",
   "metadata": {},
   "outputs": [
    {
     "ename": "ValueError",
     "evalue": "stabilizers must all commute with each other.",
     "output_type": "error",
     "traceback": [
      "\u001b[0;31m---------------------------------------------------------------------------\u001b[0m",
      "\u001b[0;31mValueError\u001b[0m                                Traceback (most recent call last)",
      "\u001b[0;32m<ipython-input-24-a9c6b77ad0d7>\u001b[0m in \u001b[0;36m<module>\u001b[0;34m\u001b[0m\n\u001b[0;32m----> 1\u001b[0;31m \u001b[0mstabilizer\u001b[0m\u001b[0;34m.\u001b[0m\u001b[0mstabilizer_state\u001b[0m\u001b[0;34m(\u001b[0m\u001b[0;34m'XXY'\u001b[0m\u001b[0;34m,\u001b[0m\u001b[0;34m'-YYI'\u001b[0m\u001b[0;34m,\u001b[0m\u001b[0;34m'IZZ'\u001b[0m\u001b[0;34m)\u001b[0m\u001b[0;34m\u001b[0m\u001b[0;34m\u001b[0m\u001b[0m\n\u001b[0m",
      "\u001b[0;32m~/Dropbox/Projects/Harvard/CliffordSimulator/src/stabilizer.py\u001b[0m in \u001b[0;36mstabilizer_state\u001b[0;34m(*stabilizers)\u001b[0m\n\u001b[1;32m    202\u001b[0m     \u001b[0;31m# validity check:\u001b[0m\u001b[0;34m\u001b[0m\u001b[0;34m\u001b[0m\u001b[0;34m\u001b[0m\u001b[0m\n\u001b[1;32m    203\u001b[0m     \u001b[0;32mif\u001b[0m \u001b[0;32mnot\u001b[0m \u001b[0;34m(\u001b[0m\u001b[0macq_mat\u001b[0m\u001b[0;34m(\u001b[0m\u001b[0mstabilizers\u001b[0m\u001b[0;34m.\u001b[0m\u001b[0mgs\u001b[0m\u001b[0;34m)\u001b[0m \u001b[0;34m==\u001b[0m \u001b[0;36m0\u001b[0m\u001b[0;34m)\u001b[0m\u001b[0;34m.\u001b[0m\u001b[0mall\u001b[0m\u001b[0;34m(\u001b[0m\u001b[0;34m)\u001b[0m\u001b[0;34m:\u001b[0m\u001b[0;34m\u001b[0m\u001b[0;34m\u001b[0m\u001b[0m\n\u001b[0;32m--> 204\u001b[0;31m         \u001b[0;32mraise\u001b[0m \u001b[0mValueError\u001b[0m\u001b[0;34m(\u001b[0m\u001b[0;34m'stabilizers must all commute with each other.'\u001b[0m\u001b[0;34m)\u001b[0m\u001b[0;34m\u001b[0m\u001b[0;34m\u001b[0m\u001b[0m\n\u001b[0m\u001b[1;32m    205\u001b[0m     \u001b[0mstate\u001b[0m \u001b[0;34m=\u001b[0m \u001b[0mmaximally_mixed_state\u001b[0m\u001b[0;34m(\u001b[0m\u001b[0mstabilizers\u001b[0m\u001b[0;34m.\u001b[0m\u001b[0mN\u001b[0m\u001b[0;34m)\u001b[0m\u001b[0;34m\u001b[0m\u001b[0;34m\u001b[0m\u001b[0m\n\u001b[1;32m    206\u001b[0m     \u001b[0mstate\u001b[0m\u001b[0;34m.\u001b[0m\u001b[0mgs\u001b[0m\u001b[0;34m,\u001b[0m \u001b[0mstate\u001b[0m\u001b[0;34m.\u001b[0m\u001b[0mr\u001b[0m \u001b[0;34m=\u001b[0m \u001b[0mstabilizer_project\u001b[0m\u001b[0;34m(\u001b[0m\u001b[0mstate\u001b[0m\u001b[0;34m.\u001b[0m\u001b[0mgs\u001b[0m\u001b[0;34m,\u001b[0m \u001b[0mstabilizers\u001b[0m\u001b[0;34m.\u001b[0m\u001b[0mgs\u001b[0m\u001b[0;34m,\u001b[0m \u001b[0mstate\u001b[0m\u001b[0;34m.\u001b[0m\u001b[0mr\u001b[0m\u001b[0;34m)\u001b[0m\u001b[0;34m\u001b[0m\u001b[0;34m\u001b[0m\u001b[0m\n",
      "\u001b[0;31mValueError\u001b[0m: stabilizers must all commute with each other."
     ]
    }
   ],
   "source": [
    "stabilizer.stabilizer_state('XXY','-YYI','IZZ')"
   ]
  },
  {
   "cell_type": "markdown",
   "id": "11f4722b-a97a-407c-83e7-937ddcf7f85d",
   "metadata": {},
   "source": [
    "#### State-Map Conversion"
   ]
  },
  {
   "cell_type": "markdown",
   "id": "e9f98595-162a-489d-8dbb-95787587eece",
   "metadata": {},
   "source": [
    "Stabilizer states and Clifford maps can be mapped to each other."
   ]
  },
  {
   "cell_type": "code",
   "execution_count": 26,
   "id": "be464a65-0304-46ba-9a31-2d33ebf45804",
   "metadata": {},
   "outputs": [
    {
     "name": "stdout",
     "output_type": "stream",
     "text": [
      "quantum state: \n",
      " StabilizerState(\n",
      "   +IZZ\n",
      "   +ZZI\n",
      "   +XXX)\n"
     ]
    }
   ],
   "source": [
    "rho = stabilizer.stabilizer_state('XXX','ZZI','IZZ')\n",
    "print(\"quantum state: \\n\", rho)"
   ]
  },
  {
   "cell_type": "code",
   "execution_count": 27,
   "id": "97b0f2cd-9f53-423d-a13f-d6fd4feef9bf",
   "metadata": {},
   "outputs": [
    {
     "data": {
      "text/plain": [
       "CliffordMap(\n",
       "  X0-> +IIX\n",
       "  Z0-> +IZZ\n",
       "  X1-> +IXX\n",
       "  Z1-> +ZZI\n",
       "  X2-> +ZII\n",
       "  Z2-> +XXX)"
      ]
     },
     "execution_count": 27,
     "metadata": {},
     "output_type": "execute_result"
    }
   ],
   "source": [
    "rho.to_map()"
   ]
  },
  {
   "cell_type": "markdown",
   "id": "2b5ea6a3-c59f-4cdf-a4f8-5e344fe0137a",
   "metadata": {},
   "source": [
    "And Clifford map can be converted back to the stabilizer state."
   ]
  },
  {
   "cell_type": "code",
   "execution_count": 28,
   "id": "229c7235-3792-481e-b576-d129d78ba3d8",
   "metadata": {},
   "outputs": [
    {
     "data": {
      "text/plain": [
       "StabilizerState(\n",
       "   +IZZ\n",
       "   +ZZI\n",
       "   +XXX)"
      ]
     },
     "execution_count": 28,
     "metadata": {},
     "output_type": "execute_result"
    }
   ],
   "source": [
    "rho.to_map().to_state()"
   ]
  },
  {
   "cell_type": "markdown",
   "id": "b72002ef-e2cd-4432-bc41-e222c9989560",
   "metadata": {},
   "source": [
    "* `.to_map()` and `.to_state()` will make **new copies** of Pauli string data in the memory."
   ]
  },
  {
   "cell_type": "markdown",
   "id": "2e9e412c-501f-4199-ae88-aec783bd954a",
   "metadata": {},
   "source": [
    "<div class=\"alert alert-block alert-danger\">\n",
    "The information about the rank of the density matrix is lost in the Clifford map, so the back conversion will result in a zero rank stabilizer state.\n",
    "</div>"
   ]
  },
  {
   "cell_type": "markdown",
   "id": "cd321e30-d4dc-43e0-9792-195bde12ec0b",
   "metadata": {},
   "source": [
    "---"
   ]
  },
  {
   "cell_type": "markdown",
   "id": "dfa8b202-9711-4d4a-9712-b2c72174ac45",
   "metadata": {},
   "source": [
    "### Clifford Map Methods"
   ]
  },
  {
   "cell_type": "markdown",
   "id": "bdfe62bd-269a-4a1c-8cd9-70eb29f7efe9",
   "metadata": {},
   "source": [
    "#### - Map Embedding"
   ]
  },
  {
   "cell_type": "markdown",
   "id": "1d286dd1-de64-4eec-89a0-7df69e75268d",
   "metadata": {},
   "source": [
    "`.embed(small_map, mask)` provides the method to embed a smaller Clifford map on a subset of qubits to the current Clifford map. This is a **in-place** operation. The Clifford map object that provide this method will get modified under the embedding.\n",
    "\n",
    "**Parameters:**\n",
    "* `small_map` is a `CliffordMap` object supported on a subset of qubits.\n",
    "* `mask` is a boolean array specifying the subset of qubits."
   ]
  },
  {
   "cell_type": "code",
   "execution_count": null,
   "id": "c684048b-dad8-492a-83e0-bdcc0646d652",
   "metadata": {},
   "outputs": [],
   "source": []
  }
 ],
 "metadata": {
  "kernelspec": {
   "display_name": "Python 3",
   "language": "python",
   "name": "python3"
  },
  "language_info": {
   "codemirror_mode": {
    "name": "ipython",
    "version": 3
   },
   "file_extension": ".py",
   "mimetype": "text/x-python",
   "name": "python",
   "nbconvert_exporter": "python",
   "pygments_lexer": "ipython3",
   "version": "3.9.2"
  }
 },
 "nbformat": 4,
 "nbformat_minor": 5
}
