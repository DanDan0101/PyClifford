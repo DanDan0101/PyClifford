{
 "cells": [
  {
   "cell_type": "code",
   "execution_count": 5,
   "id": "c1de376d-03ac-4eaf-a3a3-5b5c3040b627",
   "metadata": {},
   "outputs": [],
   "source": [
    "# will autoupdate any of the packages imported:\n",
    "%load_ext autoreload\n",
    "%autoreload 2"
   ]
  },
  {
   "cell_type": "code",
   "execution_count": 1,
   "id": "15fb0499-affc-4fb1-be90-30f6a969c4fb",
   "metadata": {},
   "outputs": [],
   "source": [
    "import numpy\n",
    "from context import *"
   ]
  },
  {
   "cell_type": "markdown",
   "id": "fe0a2582-9df2-41a6-a932-0fc4f24e1cd8",
   "metadata": {},
   "source": [
    "# Spectrum Bifurcation Renormalization Group (SBRG)"
   ]
  },
  {
   "cell_type": "markdown",
   "id": "37f1f5dd-fcc3-4d93-90ef-7dd6dcec7de4",
   "metadata": {},
   "source": [
    "Spectrum bifurcation renormalization group (SBRG) is an approximate method to diagonalize strongly disordered Pauli Hamiltonians by Clifford unitary transformations [arXiv:1508.03635](https://arxiv.org/abs/1508.03635). Given a many-body Hamiltonian $H=\\sum_a h_a P_a$ as a linear combination of a (sparse) set of Pauli operators $P_a$, the SBRG finds an approximate Clifford circuit $U$, such that the transformed Hamiltonian takes the diagonal form"
   ]
  },
  {
   "cell_type": "markdown",
   "id": "5e87769d-1e24-41f3-b531-a7437d0de6d0",
   "metadata": {},
   "source": [
    "$$H_\\text{eff}=U^\\dagger HU\\simeq \\sum_{i}\\epsilon_{i} Z_i+\\sum_{ij}\\epsilon_{ij}Z_i Z_j+\\sum_{ijk}\\epsilon_{ijk}Z_i Z_j Z_k+\\cdots$$"
   ]
  },
  {
   "cell_type": "markdown",
   "id": "39bcded0-06e9-4d88-8e75-f3a99b2aa9a6",
   "metadata": {},
   "source": [
    "This is a strong disorder renormalization group method, which relies on the strong randomness of the Hamiltonian coefficients $h_a$, such that different terms in the Hamiltonian have seperating energy scales. "
   ]
  },
  {
   "cell_type": "markdown",
   "id": "4f0b68dc-f0d0-4c13-8da9-240690949706",
   "metadata": {},
   "source": [
    "For example, consider a two-qubit test Hamiltonian as follows. Here $Z_0Z_1$ is a leading term and $X_0$, $X_1$ are treated as perturbations. "
   ]
  },
  {
   "cell_type": "code",
   "execution_count": 3,
   "id": "91d789bd-4532-4a52-9595-527363a49eef",
   "metadata": {},
   "outputs": [],
   "source": [
    "H = - paulialg.pauli('ZZ') + 0.2 * paulialg.pauli('XI') + 0.1 * paulialg.pauli('IX')"
   ]
  },
  {
   "cell_type": "markdown",
   "id": "0d137f7f-a49c-40b5-9c5f-5b5bcb4b13b1",
   "metadata": {},
   "source": [
    "Use SBRG to find the effective Hamiltonian and the Clifford unitary circuit that approximately diagonalizes the Hamiltonian."
   ]
  },
  {
   "cell_type": "code",
   "execution_count": 4,
   "id": "8ea6aef1-e20f-4907-a981-2e33b9aaaf47",
   "metadata": {},
   "outputs": [
    {
     "data": {
      "text/plain": [
       "0.02 IZ +1.02 ZI"
      ]
     },
     "execution_count": 4,
     "metadata": {},
     "output_type": "execute_result"
    }
   ],
   "source": [
    "Heff, U = circuit.SBRG(H)\n",
    "Heff"
   ]
  },
  {
   "cell_type": "markdown",
   "id": "35a9e5d2-f6bc-44b7-94a2-45742ba16bf5",
   "metadata": {},
   "source": [
    "One can check the accracy of $H_\\text{eff}$ by comparing its eigenvalues with those of $H$ by exact diagonalization."
   ]
  },
  {
   "cell_type": "code",
   "execution_count": 5,
   "id": "609b9cda-5014-4198-bfd0-d2ec91e5d781",
   "metadata": {},
   "outputs": [
    {
     "data": {
      "text/plain": [
       "array([-1.04403065, -1.00498756,  1.00498756,  1.04403065])"
      ]
     },
     "execution_count": 5,
     "metadata": {},
     "output_type": "execute_result"
    }
   ],
   "source": [
    "numpy.linalg.eigvalsh(H.to_qutip())"
   ]
  },
  {
   "cell_type": "code",
   "execution_count": 6,
   "id": "6496db87-7764-45f4-a10c-420f0b62c06c",
   "metadata": {},
   "outputs": [
    {
     "data": {
      "text/plain": [
       "array([-1.045, -1.005,  1.005,  1.045])"
      ]
     },
     "execution_count": 6,
     "metadata": {},
     "output_type": "execute_result"
    }
   ],
   "source": [
    "numpy.linalg.eigvalsh(Heff.to_qutip())"
   ]
  },
  {
   "cell_type": "markdown",
   "id": "a8a1612a-cf21-4e4b-868a-f35db21ce6f7",
   "metadata": {},
   "source": [
    "One can see that the eigenvalues matches to the 2nd order of perturbations as expected."
   ]
  },
  {
   "cell_type": "markdown",
   "id": "1e976179-7e76-455b-b049-dd44640aae54",
   "metadata": {},
   "source": [
    "Consider a larger example of diagonalizing random transverse field Ising model Hamiltonian by the SBRG algorithm."
   ]
  },
  {
   "cell_type": "code",
   "execution_count": 45,
   "id": "7b53ec52-f7c5-415c-9b6d-7181c45bb281",
   "metadata": {},
   "outputs": [
    {
     "data": {
      "text/plain": [
       "-0.18 IIIIIIIIIIIIIIIX -1.06 IIIIIIIIIIIIIIZZ +1.62 IIIIIIIIIIIIIIXI +0.02 IIIIIIIIIIIIIZZI +0.43 IIIIIIIIIIIIIXII -1.70 IIIIIIIIIIIIZZII +0.56 IIIIIIIIIIIIXIII +0.50 IIIIIIIIIIIZZIII +0.21 IIIIIIIIIIIXIIII +0.92 IIIIIIIIIIZZIIII -2.35 IIIIIIIIIIXIIIII +2.32 IIIIIIIIIZZIIIII -0.11 IIIIIIIIIXIIIIII -0.87 IIIIIIIIZZIIIIII +0.50 IIIIIIIIXIIIIIII +1.42 IIIIIIIZZIIIIIII +0.39 IIIIIIIXIIIIIIII +1.03 IIIIIIZZIIIIIIII -0.11 IIIIIIXIIIIIIIII -0.45 IIIIIZZIIIIIIIII +1.99 IIIIIXIIIIIIIIII -0.59 IIIIZZIIIIIIIIII +1.21 IIIIXIIIIIIIIIII +0.81 IIIZZIIIIIIIIIII +0.44 IIIXIIIIIIIIIIII -0.39 IIZZIIIIIIIIIIII -0.95 IIXIIIIIIIIIIIII -0.85 IZZIIIIIIIIIIIII -0.88 IXIIIIIIIIIIIIII -1.80 ZIIIIIIIIIIIIIIZ +0.49 ZZIIIIIIIIIIIIII +1.15 XIIIIIIIIIIIIIII"
      ]
     },
     "execution_count": 45,
     "metadata": {},
     "output_type": "execute_result"
    }
   ],
   "source": [
    "N = 16\n",
    "H = paulialg.pauli_zero(N)\n",
    "for i in range(N):\n",
    "    H += numpy.random.randn() * paulialg.pauli({i:'Z',(i+1)%N:'Z'}, N)\n",
    "    H += numpy.random.randn() * paulialg.pauli({i:'X'}, N)\n",
    "H"
   ]
  },
  {
   "cell_type": "markdown",
   "id": "e18c83b9-d458-4a45-9a48-b1ce77f22da4",
   "metadata": {},
   "source": [
    "Many-body localization effective Hamiltonian."
   ]
  },
  {
   "cell_type": "code",
   "execution_count": 46,
   "id": "52a4f8eb-ec0a-4a12-8fbf-30423387f9f5",
   "metadata": {},
   "outputs": [
    {
     "data": {
      "text/plain": [
       "-0.87 IIIIIIIZIZIZIIII +1.56 IIIIIZIIIIIIIIII +1.04 IIIIIZIZIIIIIIII +1.97 IIIIZIIIIIIIIIII -1.49 IIIIZIZIIIIIIIII -1.85 IIIZIIIIIIIIIIII +0.49 IIIZIIIIIIIIZZII -0.52 IIIZIIIIIIIZZIII -2.18 IIZIIIIIIIIIIIII +1.41 IIZIIIIIZIIIIIII +2.13 IZIIIIIIIIIIIIII +1.08 IZIIIIIZIIZIIIII -3.67 ZIIIIIIIIIIIIIII +0.94 ZIIIIIIIIZIIIIII -0.00 ZIIZIZZZIZZZIZZZ -0.12 ZIZIIIIIZIIIIIZI -0.00 ZIZZIIZZIIZIIZZI"
      ]
     },
     "execution_count": 46,
     "metadata": {},
     "output_type": "execute_result"
    }
   ],
   "source": [
    "Heff, U = circuit.SBRG(H)\n",
    "Heff"
   ]
  },
  {
   "cell_type": "markdown",
   "id": "79dabbd4-3467-45b4-b7b3-fc5eef5317bf",
   "metadata": {},
   "source": [
    "A representative approximate eigenstate (in the original basis)."
   ]
  },
  {
   "cell_type": "code",
   "execution_count": 47,
   "id": "ead3b4d7-5f9c-4de3-ab1e-161b669685e2",
   "metadata": {},
   "outputs": [
    {
     "data": {
      "text/plain": [
       "StabilizerState(\n",
       "   +IIIIIIIIIIXIIIII\n",
       "   +IIIIIXIIIIIIIIII\n",
       "   +ZIIIIIIIIIIIIIIZ\n",
       "   +IIIIIIIIIIIIZZII\n",
       "   +IIIIIIIIIIIIIIXI\n",
       "   +IIIIIIIZZIIIIIII\n",
       "   -IIIIXIIIIIIIIIXI\n",
       "   +IIIIIIZIZIIIIIII\n",
       "   -ZIXIIIIIIIIIIIIZ\n",
       "   -IIIIIIIIIZIZIIII\n",
       "   -IXIIIXZIZIIIIIII\n",
       "   -IIIIIIZIIIIZIIII\n",
       "   +IIIIIIZIIIIIIZII\n",
       "   +IIIXIIZIIIIIZIII\n",
       "   -YIXIIIIIIIXIIIIY\n",
       "   -YXXXXXYYYYXXXXXY)"
      ]
     },
     "execution_count": 47,
     "metadata": {},
     "output_type": "execute_result"
    }
   ],
   "source": [
    "rho = U.backward(stabilizer.zero_state(N))\n",
    "rho"
   ]
  },
  {
   "cell_type": "markdown",
   "id": "3eb311da-091e-497c-80f8-94d35a77eb0d",
   "metadata": {},
   "source": [
    "Half-system-size entanglement entropy (in unit of bit) of the state."
   ]
  },
  {
   "cell_type": "code",
   "execution_count": 48,
   "id": "dde62d81-14cd-46c2-90ff-200a28fdea6e",
   "metadata": {},
   "outputs": [
    {
     "data": {
      "text/plain": [
       "2"
      ]
     },
     "execution_count": 48,
     "metadata": {},
     "output_type": "execute_result"
    }
   ],
   "source": [
    "rho.entropy(numpy.arange(N//2))"
   ]
  },
  {
   "cell_type": "markdown",
   "id": "d61e1c11-6bf6-414e-aca7-51638f37ed78",
   "metadata": {},
   "source": [
    "Perform the calculation of entanglement entropy over different sizes of entanglement regions for eigenstates of different random Hamiltonians."
   ]
  },
  {
   "cell_type": "code",
   "execution_count": 53,
   "id": "0399b595-d5bf-4e11-b434-5680a4776d07",
   "metadata": {},
   "outputs": [],
   "source": [
    "N = 128\n",
    "Ls = numpy.arange(N//2)\n",
    "S_lst =[]\n",
    "samples = 20\n",
    "for _ in range(samples):\n",
    "    H = paulialg.pauli_zero(N)\n",
    "    for i in range(N):\n",
    "        H += numpy.random.randn() * paulialg.pauli({i:'Z',(i+1)%N:'Z'}, N)\n",
    "        H += numpy.random.randn() * paulialg.pauli({i:'X'}, N)\n",
    "    Heff, U = circuit.SBRG(H)\n",
    "    rho = U.backward(stabilizer.zero_state(N))\n",
    "    S_lst.append(numpy.array([[rho.entropy((i + numpy.arange(L)) % N) for i in range(N)] for L in Ls]).mean(1))\n",
    "Ss = numpy.stack(S_lst).mean(0)\n",
    "Serr = numpy.stack(S_lst).std(0)/numpy.sqrt(samples)"
   ]
  },
  {
   "cell_type": "markdown",
   "id": "48dd0970-92b6-46d9-8209-16b3f23a6217",
   "metadata": {},
   "source": [
    "The entanglement entropy should scale logarithmically for random transverse field Ising model at the strong-disorder critical point."
   ]
  },
  {
   "cell_type": "code",
   "execution_count": 54,
   "id": "36484b04-cfae-49bb-ab5d-9320276c9a36",
   "metadata": {},
   "outputs": [
    {
     "data": {
      "image/png": "[encoded data removed]",
      "text/plain": [
       "<Figure size 640x480 with 1 Axes>"
      ]
     },
     "metadata": {},
     "output_type": "display_data"
    }
   ],
   "source": [
    "import matplotlib.pyplot as plt\n",
    "plt.plot(Ls, Ss,  color='#CC4F1B')\n",
    "plt.fill_between(Ls, Ss-Serr, Ss+Serr, facecolor='#FF9848')\n",
    "plt.xlabel('$L$'); plt.ylabel('$S_E(L)$');"
   ]
  },
  {
   "cell_type": "code",
   "execution_count": null,
   "id": "c9a31e94-3e3c-4aa6-883a-34af55fb4412",
   "metadata": {},
   "outputs": [],
   "source": []
  }
 ],
 "metadata": {
  "kernelspec": {
   "display_name": "Python 3 (ipykernel)",
   "language": "python",
   "name": "python3"
  },
  "language_info": {
   "codemirror_mode": {
    "name": "ipython",
    "version": 3
   },
   "file_extension": ".py",
   "mimetype": "text/x-python",
   "name": "python",
   "nbconvert_exporter": "python",
   "pygments_lexer": "ipython3",
   "version": "3.9.12"
  }
 },
 "nbformat": 4,
 "nbformat_minor": 5
}
