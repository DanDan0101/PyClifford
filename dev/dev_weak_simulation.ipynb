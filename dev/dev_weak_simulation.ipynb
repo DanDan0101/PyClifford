{
 "cells": [
  {
   "cell_type": "code",
   "execution_count": 1,
   "id": "6abea8da-1a13-49f0-ae8d-3c2938d306c3",
   "metadata": {},
   "outputs": [],
   "source": [
    "# will autoupdate any of the packages imported:\n",
    "%load_ext autoreload\n",
    "%autoreload 2\n",
    "%matplotlib inline\n",
    "\n",
    "import sys\n",
    "sys.path.insert(0, '..')\n",
    "import numpy as np\n",
    "import matplotlib.pyplot as plt\n",
    "from numba import njit\n",
    "# import pyclifford\n",
    "from pyclifford import utils, paulialg, stabilizer\n",
    "from pyclifford.utils import acq, ipow, clifford_rotate, pauli_transform\n",
    "from pyclifford.paulialg import Pauli, PauliList, PauliPolynomial"
   ]
  },
  {
   "cell_type": "code",
   "execution_count": 2,
   "id": "0948e98a-12ec-4309-a629-a9886d473693",
   "metadata": {},
   "outputs": [],
   "source": [
    "def get_init_stabilizer(n, t, otcm, mask=None):\n",
    "    ''' Compute the \n",
    "    Parameters:\n",
    "    n: (int) - number of physical qubits\n",
    "    t: (int) - number of ancilla qubits\n",
    "    otcm: boolean (w) - outcome bit string of length w (currently only support w==n)\n",
    "    mask: boolean (N) - a boolean array specifying the subset of qubits outcome has support on\n",
    "    \n",
    "    Returns:\n",
    "    init_st: initialized stabilizer state, rank=n+\n",
    "    '''\n",
    "    assert n >= 1 and t >= 1\n",
    "    stabs = []\n",
    "    if mask == None:\n",
    "        assert len(otcm) == n\n",
    "        for i, xi in enumerate(otcm):\n",
    "            stab = 'I'*i + 'Z' + 'I'*(n-1-i+t)\n",
    "            if xi == 1:\n",
    "                stab = '-' + stab\n",
    "            stabs.append(stab)\n",
    "        for j in range(t):\n",
    "            stab = 'I'*(n+j) + 'Z' + 'I'*(t-1-j)\n",
    "            stabs.append(stab)\n",
    "    else:\n",
    "        assert len(otcm) == np.sum(mask)\n",
    "        pass\n",
    "    return stabilizer.stabilizer_state(stabs)"
   ]
  },
  {
   "cell_type": "markdown",
   "id": "f2f218d0-9232-4d0e-91e3-d918a7c8aa4b",
   "metadata": {},
   "source": [
    "For example, mask=None, otcm=[1, 0, 1, 0].\n",
    "Then $R_0=-Z_0, R_1=Z_1, R_2=-Z_2, R_3=Z_3, R_4=Z_4, R_5=Z_5$.\n",
    "\n",
    "Then gs=..."
   ]
  },
  {
   "cell_type": "markdown",
   "id": "8c1df649-2ef2-4d58-ad76-ce4a796e58bf",
   "metadata": {},
   "source": [
    "#### Test usage of pure state"
   ]
  },
  {
   "cell_type": "code",
   "execution_count": 3,
   "id": "4fcac3eb-4477-4c97-bb7a-0289c68e9b9c",
   "metadata": {},
   "outputs": [
    {
     "data": {
      "text/plain": [
       "StabilizerState(\n",
       "   -ZIIIII\n",
       "   +IZIIII\n",
       "   -IIZIII\n",
       "   +IIIZII\n",
       "   +IIIIZI\n",
       "   +IIIIIZ)"
      ]
     },
     "execution_count": 3,
     "metadata": {},
     "output_type": "execute_result"
    }
   ],
   "source": [
    "init_st = get_init_stabilizer(4, 2, np.array([1, 0, 1, 0]))\n",
    "init_st"
   ]
  },
  {
   "cell_type": "code",
   "execution_count": null,
   "id": "fde35556-870f-4e7f-86fe-f84a3b5d16ec",
   "metadata": {},
   "outputs": [],
   "source": []
  }
 ],
 "metadata": {
  "kernelspec": {
   "display_name": "Python 3 (ipykernel)",
   "language": "python",
   "name": "python3"
  },
  "language_info": {
   "codemirror_mode": {
    "name": "ipython",
    "version": 3
   },
   "file_extension": ".py",
   "mimetype": "text/x-python",
   "name": "python",
   "nbconvert_exporter": "python",
   "pygments_lexer": "ipython3",
   "version": "3.9.12"
  }
 },
 "nbformat": 4,
 "nbformat_minor": 5
}
