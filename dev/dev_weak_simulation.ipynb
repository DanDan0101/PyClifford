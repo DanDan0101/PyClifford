{
 "cells": [
  {
   "cell_type": "code",
   "execution_count": 1,
   "id": "6abea8da-1a13-49f0-ae8d-3c2938d306c3",
   "metadata": {},
   "outputs": [],
   "source": [
    "# will autoupdate any of the packages imported:\n",
    "%load_ext autoreload\n",
    "%autoreload 2\n",
    "%matplotlib inline\n",
    "\n",
    "import sys\n",
    "sys.path.insert(0, '..')\n",
    "import numpy as np\n",
    "import matplotlib.pyplot as plt\n",
    "from numba import njit\n",
    "# import pyclifford\n",
    "from pyclifford import utils, paulialg, stabilizer\n",
    "from pyclifford.utils import acq, ipow, clifford_rotate, pauli_transform\n",
    "from pyclifford.paulialg import Pauli, PauliList, PauliPolynomial"
   ]
  },
  {
   "cell_type": "code",
   "execution_count": null,
   "id": "0948e98a-12ec-4309-a629-a9886d473693",
   "metadata": {},
   "outputs": [],
   "source": []
  }
 ],
 "metadata": {
  "kernelspec": {
   "display_name": "Python 3 (ipykernel)",
   "language": "python",
   "name": "python3"
  },
  "language_info": {
   "codemirror_mode": {
    "name": "ipython",
    "version": 3
   },
   "file_extension": ".py",
   "mimetype": "text/x-python",
   "name": "python",
   "nbconvert_exporter": "python",
   "pygments_lexer": "ipython3",
   "version": "3.9.12"
  }
 },
 "nbformat": 4,
 "nbformat_minor": 5
}
