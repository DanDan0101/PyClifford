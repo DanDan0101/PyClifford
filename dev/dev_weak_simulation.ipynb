{
 "cells": [
  {
   "cell_type": "code",
   "execution_count": 2,
   "id": "6abea8da-1a13-49f0-ae8d-3c2938d306c3",
   "metadata": {},
   "outputs": [],
   "source": [
    "# will autoupdate any of the packages imported:\n",
    "%load_ext autoreload\n",
    "%autoreload 2\n",
    "%matplotlib inline\n",
    "\n",
    "import sys\n",
    "sys.path.insert(0, '..')\n",
    "import numpy as np\n",
    "import matplotlib.pyplot as plt\n",
    "from numba import njit\n",
    "# import pyclifford\n",
    "from pyclifford import utils, paulialg, stabilizer\n",
    "from pyclifford.utils import acq, ipow, clifford_rotate, pauli_transform\n",
    "from pyclifford.paulialg import Pauli, PauliList, PauliPolynomial"
   ]
  },
  {
   "cell_type": "code",
   "execution_count": 42,
   "id": "0948e98a-12ec-4309-a629-a9886d473693",
   "metadata": {},
   "outputs": [],
   "source": [
    "def init_stabilizer_state(n, t, otcm, mask=None):\n",
    "    ''' Compute the \n",
    "    Parameters:\n",
    "    n: (int) - number of physical qubits\n",
    "    t: (int) - number of ancilla qubits\n",
    "    otcm: boolean (w) - outcome bit string of length w (currently only support w==n)\n",
    "    mask: boolean (N) - a boolean array specifying the subset of qubits outcome has support on\n",
    "    \n",
    "    Returns:\n",
    "    init_st: initialized stabilizer state, rank=n+\n",
    "    '''\n",
    "    assert n >= 1 and t >= 1\n",
    "    stbs = []\n",
    "    if mask == None:\n",
    "        assert len(otcm) == n\n",
    "        for i, xi in enumerate(otcm):\n",
    "            stb = 'I'*i + 'Z' + 'I'*(n-1-i+t)\n",
    "            if xi == 1:\n",
    "                stb = '-' + stb\n",
    "            stbs.append(stb)\n",
    "        for j in range(t):\n",
    "            stb = 'I'*(n+j) + 'Z' + 'I'*(t-1-j)\n",
    "            stbs.append(stb)\n",
    "    else:\n",
    "        assert len(otcm) == np.sum(mask)\n",
    "        pass\n",
    "    return stabilizer.stabilizer_state(stbs)"
   ]
  },
  {
   "cell_type": "markdown",
   "id": "f2f218d0-9232-4d0e-91e3-d918a7c8aa4b",
   "metadata": {},
   "source": [
    "For example, mask=None, otcm=[1, 0, 1, 0].\n",
    "Then $R_0=-Z_0, R_1=Z_1, R_2=-Z_2, R_3=Z_3, R_4=Z_4, R_5=Z_5$."
   ]
  },
  {
   "cell_type": "markdown",
   "id": "8c1df649-2ef2-4d58-ad76-ce4a796e58bf",
   "metadata": {},
   "source": [
    "#### Test initial pure state"
   ]
  },
  {
   "cell_type": "code",
   "execution_count": 43,
   "id": "4fcac3eb-4477-4c97-bb7a-0289c68e9b9c",
   "metadata": {},
   "outputs": [
    {
     "data": {
      "text/plain": [
       "StabilizerState(\n",
       "   -ZIIIII\n",
       "   +IZIIII\n",
       "   -IIZIII\n",
       "   +IIIZII\n",
       "   +IIIIZI\n",
       "   +IIIIIZ)"
      ]
     },
     "execution_count": 43,
     "metadata": {},
     "output_type": "execute_result"
    }
   ],
   "source": [
    "init_st = init_stabilizer_state(4, 2, np.array([1, 0, 1, 0]))\n",
    "init_st"
   ]
  },
  {
   "cell_type": "markdown",
   "id": "6209d299-3a9e-4ff6-a96f-8137c37a8590",
   "metadata": {},
   "source": [
    "We then use a manually-chosen fixed circuit that contains $t=2$ T gates to evolve these stabilizers,\n",
    "$$R_j^{(V)}=V^\\dagger R_j V$$\n",
    "\n",
    "One problem is how to realize CNOT, Hadamard etc using PauliAlgebra methods. Naively, we use the decomposition\n",
    "$H=\\frac{1}{\\sqrt{2}}(X+Z)$, $\\mathrm{CNOT}=\\frac{1}{2}(XX+IX+ZI-ZX)$.\n",
    "\n",
    "Let's consider a simple circuit $V$:\n",
    "\n",
    "+ 1st layer: Hadamard[0],[1],[2],[3]\n",
    "\n",
    "+ 2nd layer: CNOT[0,4], CNOT[2,5]\n",
    "\n",
    "+ 3rd layer: computational basis measurement[0],[1],[2],[3]"
   ]
  },
  {
   "cell_type": "markdown",
   "id": "03a95b00-210c-4efc-81e8-5e8301263fa5",
   "metadata": {},
   "source": [
    "#### Define gadgetized circuit $V$"
   ]
  },
  {
   "cell_type": "code",
   "execution_count": 21,
   "id": "863b4474-6e65-47ca-8e5e-355f3490dd96",
   "metadata": {},
   "outputs": [
    {
     "data": {
      "text/plain": [
       "CliffordMap(\n",
       "  X0-> +ZIIIII\n",
       "  Z0-> +XIIIII\n",
       "  X1-> +IZIIII\n",
       "  Z1-> +IXIIII\n",
       "  X2-> +IIZIII\n",
       "  Z2-> +IIXIII\n",
       "  X3-> +IIIZII\n",
       "  Z3-> +IIIXII\n",
       "  X4-> +IIIIXI\n",
       "  Z4-> +IIIIZI\n",
       "  X5-> +IIIIIX\n",
       "  Z5-> +IIIIIZ)"
      ]
     },
     "execution_count": 21,
     "metadata": {},
     "output_type": "execute_result"
    }
   ],
   "source": [
    "# represent Hadamard layer by Clifford map\n",
    "hadamard_layer = stabilizer.stabilizer_state('XIIIII','IXIIII','IIXIII','IIIXII','IIIIZI','IIIIIZ').to_map()\n",
    "hadamard_layer"
   ]
  },
  {
   "cell_type": "code",
   "execution_count": 22,
   "id": "2ab11304-a7b3-4bab-ab0a-2e3a11ac558f",
   "metadata": {},
   "outputs": [
    {
     "data": {
      "text/plain": [
       "CliffordMap(\n",
       "  X0-> +XIIIXI\n",
       "  Z0-> +ZIIIII\n",
       "  X1-> +IXIIIX\n",
       "  Z1-> +IZIIII\n",
       "  X2-> +IIXIII\n",
       "  Z2-> +IIZIII\n",
       "  X3-> +IIIXII\n",
       "  Z3-> +IIIZII\n",
       "  X4-> +IIIIXI\n",
       "  Z4-> +ZIIIZI\n",
       "  X5-> +IIIIIX\n",
       "  Z5-> +IZIIIZ)"
      ]
     },
     "execution_count": 22,
     "metadata": {},
     "output_type": "execute_result"
    }
   ],
   "source": [
    "# represent CNOT layer by Clifford map\n",
    "cnot_layer = stabilizer.stabilizer_state('ZIIIII','IZIIII','IIZIII','IIIZII','ZIIIZI','IZIIIZ').to_map()\n",
    "cnot_layer"
   ]
  },
  {
   "cell_type": "code",
   "execution_count": 33,
   "id": "faac2a23-d0f2-4e22-93f2-a525c0f228be",
   "metadata": {},
   "outputs": [],
   "source": [
    "# compose layers\n",
    "V = hadamard_layer.compose(cnot_layer)"
   ]
  },
  {
   "cell_type": "code",
   "execution_count": 34,
   "id": "f65727eb-c9f9-4c4b-a54f-daca670e1e37",
   "metadata": {},
   "outputs": [],
   "source": [
    "# evolve initial stabilizers\n",
    "V_st = init_st.transform_by(V)"
   ]
  },
  {
   "cell_type": "markdown",
   "id": "2f89a1c1-6f39-4056-b80a-974245e33938",
   "metadata": {},
   "source": [
    "#### calculate $v$"
   ]
  },
  {
   "cell_type": "code",
   "execution_count": 48,
   "id": "1d19bbd2-b0eb-49e9-9312-45244bd4c124",
   "metadata": {},
   "outputs": [],
   "source": [
    "v = 0\n",
    "for i in range(V_st.r, len(V_st)//2):\n",
    "    stb = V_st.gs[i]\n",
    "    flag = True  # assume this stabilizer only contains I or Z\n",
    "    for j in range(len(stb)//2):\n",
    "        if stb[2*j] == 1:  # this stabilizer contains X or Y\n",
    "            flag = False\n",
    "    if flag == True:\n",
    "        v += 1"
   ]
  },
  {
   "cell_type": "code",
   "execution_count": 49,
   "id": "362266f4-2c2a-44af-9a1d-74fc6ac6bf13",
   "metadata": {},
   "outputs": [
    {
     "data": {
      "text/plain": [
       "6"
      ]
     },
     "execution_count": 49,
     "metadata": {},
     "output_type": "execute_result"
    }
   ],
   "source": [
    "v"
   ]
  },
  {
   "cell_type": "markdown",
   "id": "05accf13-a2ef-47b4-83d8-25185adcd042",
   "metadata": {},
   "source": [
    "#### obtain the projector for stabilizer group $G$\n",
    "\n",
    "Now we already have the state $V^\\dagger \\Pi(x) V$, we want to know the state $\\langle 0^n|V^\\dagger \\Pi(x) V |0^n\\rangle$\n",
    "\n",
    "This actually needs to be combined into the process of counting $v$: For one of the $n$ physical qubits, if the stabilizer on current qubit is $I$ or $Z$, keep this stabilizer, erase this qubit. At last, if there is an overall $1j^{\\mathrm{ipow}}$ factor, add it."
   ]
  },
  {
   "cell_type": "code",
   "execution_count": null,
   "id": "da9a3d11-0333-4034-bd8b-96c5e01c59e8",
   "metadata": {},
   "outputs": [],
   "source": []
  }
 ],
 "metadata": {
  "kernelspec": {
   "display_name": "Python 3 (ipykernel)",
   "language": "python",
   "name": "python3"
  },
  "language_info": {
   "codemirror_mode": {
    "name": "ipython",
    "version": 3
   },
   "file_extension": ".py",
   "mimetype": "text/x-python",
   "name": "python",
   "nbconvert_exporter": "python",
   "pygments_lexer": "ipython3",
   "version": "3.9.12"
  }
 },
 "nbformat": 4,
 "nbformat_minor": 5
}
