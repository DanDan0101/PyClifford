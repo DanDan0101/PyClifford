{
 "cells": [
  {
   "cell_type": "code",
   "execution_count": 1,
   "id": "61c7bab6-117c-49cb-8daf-508f8eb228d1",
   "metadata": {},
   "outputs": [],
   "source": [
    "# will autoupdate any of the packages imported:\n",
    "%load_ext autoreload\n",
    "%autoreload 2\n",
    "%matplotlib inline"
   ]
  },
  {
   "cell_type": "code",
   "execution_count": 2,
   "id": "4476ec7a-166b-4dda-9d97-ea593e24a9fd",
   "metadata": {},
   "outputs": [],
   "source": [
    "import numpy as np\n",
    "import matplotlib.pyplot as plt\n",
    "import utils\n",
    "import paulialg\n",
    "from numba import njit\n",
    "from utils import acq, ipow\n",
    "import stabilizer"
   ]
  },
  {
   "cell_type": "code",
   "execution_count": 3,
   "id": "29fe47f1-d3b0-45e8-8840-7ef146f771e1",
   "metadata": {},
   "outputs": [],
   "source": [
    "def decompose(g, gs, ps):\n",
    "    '''  Decompose a pauli string to phase*destabilizers*stabilizers\n",
    "    Parameters:\n",
    "    g: int(2*N) - the binary vector of a pauli string\n",
    "    gs: int(2*N,2*N) - the full tableau\n",
    "    ps: int(2*N) - phase of stabilizer and destabilizer\n",
    "    \n",
    "    Returns:\n",
    "    phase: int - phase in terms of imaginery power\n",
    "    b: int(N) - binary encoding of destabilizer decomposition\n",
    "    c: int(N) - binary encoding of stabilizer decomposition\n",
    "    '''\n",
    "    phase = 0\n",
    "    tmp_p = np.zeros_like(g)\n",
    "    N = gs.shape[0]//2\n",
    "    b = np.zeros(N).astype(int)\n",
    "    c = np.zeros(N).astype(int)\n",
    "    for i in range(N):\n",
    "        if acq(g,gs[i]): #anti-commute\n",
    "            b[i] = 1\n",
    "            phase = phase - ipow(tmp_p,gs[i+N]) + ps[i+N]\n",
    "            tmp_p = (tmp_p+gs[i+N])%2\n",
    "    for i in range(N):\n",
    "        if acq(g,gs[i+N]): #anti-commute\n",
    "            c[i] = 1\n",
    "            phase = phase - ipow(tmp_p,gs[i]) + ps[i]\n",
    "            tmp_p = (tmp_p+gs[i])%2\n",
    "    return phase%4, tmp_p, b, c"
   ]
  },
  {
   "cell_type": "markdown",
   "id": "63224cd4-6c86-4369-babb-00cd55a68ca2",
   "metadata": {},
   "source": [
    "The above function will decompose a pauli string into combination of destabilizer generators and stabilizer generators."
   ]
  },
  {
   "cell_type": "markdown",
   "id": "fe3de88f-9963-45bb-8257-f5260dbbe2b1",
   "metadata": {},
   "source": [
    "Let's see an example, if the stabilizer generators are $g_0=-ZZ$ and $g_1=XX$ and destabilizer generators are $d_0=IX$, $d_1=XI$."
   ]
  },
  {
   "cell_type": "code",
   "execution_count": 11,
   "id": "f9c8cd60-7411-428d-8544-fff494e54be9",
   "metadata": {},
   "outputs": [],
   "source": [
    "gs = stabilizer.stabilizer_state(\"-ZZ\",\"XX\").gs\n",
    "ps = stabilizer.stabilizer_state(\"-ZZ\",\"XX\").ps"
   ]
  },
  {
   "cell_type": "code",
   "execution_count": 12,
   "id": "e27dbaa3-046f-43b3-b77c-bc164b824a42",
   "metadata": {},
   "outputs": [
    {
     "data": {
      "text/plain": [
       "array([[0, 1, 0, 1],\n",
       "       [1, 0, 1, 0],\n",
       "       [0, 0, 1, 0],\n",
       "       [0, 1, 0, 0]])"
      ]
     },
     "execution_count": 12,
     "metadata": {},
     "output_type": "execute_result"
    }
   ],
   "source": [
    "gs"
   ]
  },
  {
   "cell_type": "code",
   "execution_count": 13,
   "id": "5e3a5c10-4f72-467f-9486-986c50f291d0",
   "metadata": {},
   "outputs": [
    {
     "data": {
      "text/plain": [
       "array([2, 0, 0, 0])"
      ]
     },
     "execution_count": 13,
     "metadata": {},
     "output_type": "execute_result"
    }
   ],
   "source": [
    "ps"
   ]
  },
  {
   "cell_type": "code",
   "execution_count": 14,
   "id": "26959e2c-4040-4a81-87b9-b0072752b8ec",
   "metadata": {},
   "outputs": [
    {
     "data": {
      "text/plain": [
       "(1, array([1, 0, 1, 1]), array([0, 1]), array([1, 1]))"
      ]
     },
     "execution_count": 14,
     "metadata": {},
     "output_type": "execute_result"
    }
   ],
   "source": [
    "decompose(np.array([1,0,1,1]),gs,ps)"
   ]
  },
  {
   "cell_type": "markdown",
   "id": "7de19914-73e2-45f0-b61d-7804a218adab",
   "metadata": {},
   "source": [
    "From the result, we see pauli string $XY$ can be decomposed as\n",
    "$$XY = i^1 d_0^0 d_1^1 g_0^1 g_1^1=i(XI)(-ZZ)(XX)$$"
   ]
  },
  {
   "cell_type": "code",
   "execution_count": null,
   "id": "380a1525-59da-4ed9-ade3-26bb3353a7b6",
   "metadata": {},
   "outputs": [],
   "source": []
  },
  {
   "cell_type": "code",
   "execution_count": 58,
   "id": "c2bb9eca-ee64-442e-89d2-35adecbe506f",
   "metadata": {},
   "outputs": [],
   "source": [
    "class GeneralStabilizerState(object):\n",
    "    '''Represents a stabilizer state. This is a subclass of PauliList.\n",
    "        rho = 1/2^r prod_{a=1}^{N-r} (1+ Pauli[g_a,p_a])/2\n",
    "\n",
    "    The stabilizer state is specified by a stablizer tableau, as a binary matrix\n",
    "    of the shape (2*N, 2*N).\n",
    "        rows [0,r) - standby stabilizers\n",
    "        rows [r,N) - active stabilizers (g_a)\n",
    "        rows [N,N+r) - standby destabilizers\n",
    "        rows [N+r,2*N) - active destabilizers\n",
    "    The stabilizers and destablizers in the tableau forms a list of Pauli \n",
    "    operators, which can be represented as a subclass of PauliList.\n",
    "\n",
    "    Parameters:\n",
    "    gs: int (2*N, 2*N) - strings of Pauli operators in the stabilizer tableau.\n",
    "    ps: int (2*N) - phase indicators (should only be 0 or 2).\n",
    "    r:  int  - number of logical qubits (log2 rank of density matrix)'''\n",
    "    # def __init__(self, *args, **kwargs):\n",
    "    def __init__(self, chi, gs, ps):\n",
    "        self.chi = chi\n",
    "        self.gs = gs\n",
    "        self.ps = ps\n",
    "        \n",
    "    # def __repr__(self):\n",
    "    #     ''' will only show active stabilizers, \n",
    "    #         to see the full stabilizer tableau, convert to PauliList by [:] '''\n",
    "    #     subrepr = repr(self.stabilizers)\n",
    "    #     if subrepr == '':\n",
    "    #         return 'StabilizerState()'\n",
    "    #     else:\n",
    "    #         return 'StabilizerState(\\n{})'.format(subrepr).replace('\\n','\\n  ')\n",
    "\n",
    "    @property\n",
    "    def stabilizers(self):\n",
    "        return self[self.r:self.N]\n",
    "    \n",
    "    def copy(self):\n",
    "        return StabilizerState(self.gs.copy(), self.ps.copy()).set_r(self.r)\n"
   ]
  },
  {
   "cell_type": "code",
   "execution_count": null,
   "id": "f201c07b-099a-41d7-b52b-52e250e67fb5",
   "metadata": {},
   "outputs": [],
   "source": []
  }
 ],
 "metadata": {
  "kernelspec": {
   "display_name": "Python 3 (ipykernel)",
   "language": "python",
   "name": "python3"
  },
  "language_info": {
   "codemirror_mode": {
    "name": "ipython",
    "version": 3
   },
   "file_extension": ".py",
   "mimetype": "text/x-python",
   "name": "python",
   "nbconvert_exporter": "python",
   "pygments_lexer": "ipython3",
   "version": "3.10.4"
  }
 },
 "nbformat": 4,
 "nbformat_minor": 5
}
