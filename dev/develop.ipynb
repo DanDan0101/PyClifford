{
 "cells": [
  {
   "cell_type": "code",
   "execution_count": 1,
   "id": "61c7bab6-117c-49cb-8daf-508f8eb228d1",
   "metadata": {},
   "outputs": [],
   "source": [
    "# will autoupdate any of the packages imported:\n",
    "%load_ext autoreload\n",
    "%autoreload 2\n",
    "%matplotlib inline"
   ]
  },
  {
   "cell_type": "code",
   "execution_count": 2,
   "id": "4476ec7a-166b-4dda-9d97-ea593e24a9fd",
   "metadata": {},
   "outputs": [],
   "source": [
    "import sys\n",
    "sys.path.insert(0, '..')\n",
    "import numpy as np\n",
    "import matplotlib.pyplot as plt\n",
    "from numba import njit\n",
    "import pyclifford as pc\n",
    "from pyclifford import utils, paulialg, stabilizer\n",
    "from pyclifford.utils import acq, ipow, clifford_rotate, pauli_transform\n",
    "from pyclifford.paulialg import Pauli, PauliList, PauliPolynomial\n",
    "import qutip as qt"
   ]
  },
  {
   "cell_type": "code",
   "execution_count": 3,
   "id": "29fe47f1-d3b0-45e8-8840-7ef146f771e1",
   "metadata": {},
   "outputs": [],
   "source": [
    "def decompose(g, gs, ps):\n",
    "    '''  Decompose a pauli string to phase*destabilizers*stabilizers\n",
    "    Parameters:\n",
    "    g: int(2*N) - the binary vector of a pauli string\n",
    "    gs: int(2*N,2*N) - the full tableau\n",
    "    ps: int(2*N) - phase of stabilizer and destabilizer\n",
    "    \n",
    "    Returns:\n",
    "    phase: int - phase in terms of imaginery power\n",
    "    b: int(N) - binary encoding of destabilizer decomposition\n",
    "    c: int(N) - binary encoding of stabilizer decomposition\n",
    "    '''\n",
    "    phase = 0\n",
    "    tmp_p = np.zeros_like(g)\n",
    "    N = gs.shape[0]//2\n",
    "    b = np.zeros(N).astype(int)\n",
    "    c = np.zeros(N).astype(int)\n",
    "    for i in range(N):\n",
    "        if acq(g,gs[i]): #anti-commute\n",
    "            b[i] = 1\n",
    "            phase = phase - ipow(tmp_p,gs[i+N]) + ps[i+N]\n",
    "            tmp_p = (tmp_p+gs[i+N])%2\n",
    "    for i in range(N):\n",
    "        if acq(g,gs[i+N]): #anti-commute\n",
    "            c[i] = 1\n",
    "            phase = phase - ipow(tmp_p,gs[i]) + ps[i]\n",
    "            tmp_p = (tmp_p+gs[i])%2\n",
    "    return phase%4, tmp_p, b, c"
   ]
  },
  {
   "cell_type": "markdown",
   "id": "63224cd4-6c86-4369-babb-00cd55a68ca2",
   "metadata": {},
   "source": [
    "The above function will decompose a pauli string into combination of destabilizer generators and stabilizer generators."
   ]
  },
  {
   "cell_type": "markdown",
   "id": "fe3de88f-9963-45bb-8257-f5260dbbe2b1",
   "metadata": {},
   "source": [
    "Let's see an example, if the stabilizer generators are $g_0=-ZZ$ and $g_1=XX$ and destabilizer generators are $d_0=IX$, $d_1=XI$."
   ]
  },
  {
   "cell_type": "code",
   "execution_count": 4,
   "id": "f9c8cd60-7411-428d-8544-fff494e54be9",
   "metadata": {},
   "outputs": [],
   "source": [
    "gs = stabilizer.stabilizer_state(\"-ZZ\",\"XX\").gs\n",
    "ps = stabilizer.stabilizer_state(\"-ZZ\",\"XX\").ps"
   ]
  },
  {
   "cell_type": "code",
   "execution_count": 5,
   "id": "e27dbaa3-046f-43b3-b77c-bc164b824a42",
   "metadata": {},
   "outputs": [
    {
     "data": {
      "text/plain": [
       "array([[0, 1, 0, 1],\n",
       "       [1, 0, 1, 0],\n",
       "       [0, 0, 1, 0],\n",
       "       [0, 1, 0, 0]])"
      ]
     },
     "execution_count": 5,
     "metadata": {},
     "output_type": "execute_result"
    }
   ],
   "source": [
    "gs"
   ]
  },
  {
   "cell_type": "code",
   "execution_count": 6,
   "id": "5e3a5c10-4f72-467f-9486-986c50f291d0",
   "metadata": {},
   "outputs": [
    {
     "data": {
      "text/plain": [
       "array([2, 0, 0, 0])"
      ]
     },
     "execution_count": 6,
     "metadata": {},
     "output_type": "execute_result"
    }
   ],
   "source": [
    "ps"
   ]
  },
  {
   "cell_type": "code",
   "execution_count": 7,
   "id": "26959e2c-4040-4a81-87b9-b0072752b8ec",
   "metadata": {},
   "outputs": [
    {
     "data": {
      "text/plain": [
       "(1, array([1, 0, 1, 1]), array([0, 1]), array([1, 1]))"
      ]
     },
     "execution_count": 7,
     "metadata": {},
     "output_type": "execute_result"
    }
   ],
   "source": [
    "decompose(np.array([1,0,1,1]),gs,ps)"
   ]
  },
  {
   "cell_type": "markdown",
   "id": "7de19914-73e2-45f0-b61d-7804a218adab",
   "metadata": {},
   "source": [
    "From the result, we see pauli string $XY$ can be decomposed as\n",
    "$$XY = i^1 d_0^0 d_1^1 g_0^1 g_1^1=i(XI)(-ZZ)(XX)$$"
   ]
  },
  {
   "cell_type": "markdown",
   "id": "00b428c6-a7f9-4d70-a065-16bd791d9feb",
   "metadata": {},
   "source": [
    "The single-qubit $X$ and $Z$ are"
   ]
  },
  {
   "cell_type": "code",
   "execution_count": 8,
   "id": "380a1525-59da-4ed9-ade3-26bb3353a7b6",
   "metadata": {},
   "outputs": [],
   "source": [
    "# def list2num(lst):\n",
    "#     return np.sum(2**np.arange(len(lst)) * np.array(list(reversed(lst))))\n",
    "\n",
    "# def num2list(num, N):\n",
    "#     assert num < 2**N\n",
    "#     return np.array(list(map(int, bin(num)[2:].zfill(N))))"
   ]
  },
  {
   "cell_type": "code",
   "execution_count": 61,
   "id": "c2bb9eca-ee64-442e-89d2-35adecbe506f",
   "metadata": {},
   "outputs": [],
   "source": [
    "class GeneralStabilizerState(object):\n",
    "\n",
    "    # def __init__(self, *args, **kwargs):\n",
    "    def __init__(self, chi, gs, ps):\n",
    "        self.chi = chi\n",
    "        self.gs = gs\n",
    "        self.ps = ps\n",
    "        \n",
    "    # def __repr__(self):\n",
    "    #     ''' will only show active stabilizers, \n",
    "    #         to see the full stabilizer tableau, convert to PauliList by [:] '''\n",
    "    #     subrepr = repr(self.stabilizers)\n",
    "    #     if subrepr == '':\n",
    "    #         return 'StabilizerState()'\n",
    "    #     else:\n",
    "    #         return 'StabilizerState(\\n{})'.format(subrepr).replace('\\n','\\n  ')\n",
    "\n",
    "    \n",
    "    def copy(self):\n",
    "        return self.chi.copy(), self.gs.copy(), self.ps.copy()\n",
    "\n",
    "    def rotate_by(self, generator, mask=None):\n",
    "        # perform Clifford transformation by Pauli generator (in-place)\n",
    "        if mask is None:\n",
    "            clifford_rotate(generator.g, generator.p, self.gs, self.ps)\n",
    "        else:\n",
    "            mask2 = numpy.repeat(mask,  2)\n",
    "            self.gs[:,mask2], self.ps = clifford_rotate(\n",
    "                generator.g, generator.p, self.gs[:,mask2], self.ps)\n",
    "        return self\n",
    "        \n",
    "    def transform_by(self, generator, mask=None):\n",
    "        # perform Clifford transformation by Clifford map (in-place)\n",
    "        if mask is None:\n",
    "            self.gs, self.ps = pauli_transform(self.gs, self.ps, \n",
    "                clifford_map.gs, clifford_map.ps)\n",
    "        else:\n",
    "            mask2 = numpy.repeat(mask, 2)\n",
    "            self.gs[:,mask2], self.ps = pauli_transform(\n",
    "                self.gs[:,mask2], self.ps, clifford_map.gs, clifford_map.ps)\n",
    "        return self\n",
    "    \n",
    "    def pauli_chnl_evol(self, phi, pl, pr):\n",
    "        '''Perform general Clifford channel evolution.\n",
    "        \n",
    "        Parameters:\n",
    "        phi: [c1, c2, ...] - list of Pauli channel coefficients.\n",
    "        pl:  [int (2*N), int (2*N), ...] - list of left-multiplying Pauli ops.\n",
    "        pr:  [int (2*N), int (2*N), ...] - list of right-multiplying Pauli ops. \n",
    "        \n",
    "        Returns:\n",
    "        chi in-place modified.\n",
    "        '''\n",
    "        # pre-store alpha, b, c to avoid redundant call of decompose\n",
    "        al, bl, cl = [], [], []\n",
    "        ar, br, cr = [], [], []\n",
    "        for pm, pn in zip(pl, pr):\n",
    "            # print(\"pm: \",pm)\n",
    "            # print(\"gs: \",self.gs)\n",
    "            # print(\"ps: \", self.ps)\n",
    "            am, _, bm, cm = decompose(pm, self.gs, self.ps) \n",
    "            an, _, bn, cn = decompose(pn, self.gs, self.ps)\n",
    "            al.append(am)\n",
    "            bl.append(bm)\n",
    "            cl.append(cm)\n",
    "            ar.append(an)\n",
    "            br.append(bn)\n",
    "            cr.append(cn)\n",
    "        \n",
    "        # update chi\n",
    "        chinew = {}\n",
    "        for idx in range(len(phi)):\n",
    "            phimn = phi[idx]\n",
    "            am, bm, cm = al[idx], bl[idx], cl[idx]\n",
    "            an, bn, cn = ar[idx], br[idx], cr[idx]\n",
    "            # print(phimn)\n",
    "            for (i, j), chiij in self.chi.items():\n",
    "                i, j = np.array(list(i)), np.array(list(j))\n",
    "                # update i, j\n",
    "                inew = (i + bm)%2\n",
    "                jnew = (j + bn)%2\n",
    "                # update chiij\n",
    "                ipow = (am-an+2*(np.dot(i,cm)+np.dot(j,cn)))%4\n",
    "                chiijnew = chiij * phimn * 1j**ipow\n",
    "                keynew = (tuple(inew), tuple(jnew))\n",
    "                if keynew in chinew:\n",
    "                    chinew[keynew] += chiijnew\n",
    "                else:\n",
    "                    chinew[keynew] = chiijnew\n",
    "                # print(chinew)\n",
    "        self.chi = chinew\n",
    "            \n",
    "            \n",
    "    def pauli_expect(self, obs):\n",
    "        '''Evaluate expectation values of Pauli observables on the\n",
    "generalized stabilizer state.\n",
    "        \n",
    "        Parameters:\n",
    "        obs: observable, can be Pauli, PauliPolynomial, PauliList\n",
    "        z: fugacity of operator weight\n",
    "        \n",
    "        Returns:\n",
    "        out: output (depending on the type of obs)\n",
    "            * Pauli: promote to PauliPolynomial\n",
    "            * PauliPolynomial O: Tr(rho O z^|O|)\n",
    "            * Paulilist [O_i]: [Tr(rho O_i z^|O_i|)]\n",
    "        '''\n",
    "        if isinstance(obs, Pauli):\n",
    "            # cast Pauli to PauliPolynomial\n",
    "            return self.pauli_expect(obs.as_polynomial())\n",
    "        elif isinstance(obs, PauliPolynomial):\n",
    "            # cast PauliPolynomial to PauliList\n",
    "            xs = self.expect(PauliList(obs.gs, obs.ps))\n",
    "            return numpy.sum(obs.cs * xs)\n",
    "        elif isinstance(obs, PauliList):\n",
    "            (L, Ng) = obs.gs.shape\n",
    "            N = Ng//2\n",
    "            xs = np.zeros(L, dtype=np.complex_) # expectation values\n",
    "            pa = 0\n",
    "            for k in range(L):\n",
    "                a, _, b, c = decompose(obs.gs[k], self.gs, self.ps)\n",
    "                for (i, j), chi in self.chi.items():\n",
    "                    i, j = np.array(list(i)), np.array(list(j))\n",
    "                    # print(f'i: {i.shape}, j: {j.shape}, b:{b.shape}')\n",
    "                if np.all((i+j+b) == 0):\n",
    "                    # ipow = (a + obs.ps[k] + 2*i@c) % 4\n",
    "                    ipow = (a + obs.ps[k] + 2*np.dot(i, c)) % 4\n",
    "                    xs[k] += chiij * 1j**ipow\n",
    "            return xs \n",
    "    def to_qutip(self):\n",
    "        n = self.gs.shape[1]//2\n",
    "        paulis = [qt.qeye(2), qt.sigmax(), qt.sigmay(), qt.sigmaz()]\n",
    "        identity = qt.tensor([qt.qeye(2) for i in range(n)])\n",
    "        stab_state = identity\n",
    "        for i in range(n):\n",
    "            current_stabilizer = pc.paulialg.Pauli(g=self.gs[i],p=self.ps[i]).to_qutip()\n",
    "            stab_state *= (identity+current_stabilizer)/2\n",
    "            # print('current_stabilizer:',current_stabilizer, 'stab_state:', stab_state)\n",
    "        state = 0\n",
    "        for k, e in self.chi.items():\n",
    "            left_coor = k[0]\n",
    "            right_coor = k[1]\n",
    "            # print('left_coor:',left_coor,'right_coor',right_coor)\n",
    "            left_destabilizer = identity\n",
    "            for l in range(len(left_coor)):\n",
    "                if left_coor[l] == 1:\n",
    "                    left_destabilizer *= pc.paulialg.Pauli(g=self.gs[l+n],p=self.ps[l+n]).to_qutip()\n",
    "                    # print(f'{l}th left destabilizer: {left_destabilizer}')\n",
    "            right_destabilizer = identity\n",
    "            for r in range(len(right_coor)):\n",
    "                if right_coor[r] == 1:\n",
    "                    right_destabilizer *= pc.paulialg.Pauli(g=self.gs[r+n],p=self.ps[r+n]).to_qutip()\n",
    "                    # print(f'{r}th right destabilizer: {left_destabilizer}')\n",
    "            state += e * left_destabilizer * stab_state * right_destabilizer\n",
    "        return state"
   ]
  },
  {
   "cell_type": "markdown",
   "id": "700c43fa-7987-4f93-9fa1-e755388ec33a",
   "metadata": {},
   "source": [
    "T gate in terms of Pauli channels:\n",
    "$$\n",
    "T^\\dagger\\rho T = \\cos(\\pi/8)^2 I\\rho I+ i \\sin(\\pi/8)\\cos(\\pi/8)Z\\rho I - i\\sin(\\pi/8)\\cos(\\pi/8) I\\rho Z + \\sin(\\pi/8)^2 Z\\rho Z\n",
    "$$"
   ]
  },
  {
   "cell_type": "markdown",
   "id": "d132f930-b88f-497d-9a0a-7bec8adf0a00",
   "metadata": {},
   "source": [
    "#### single-qubit GHZ\n",
    "\n",
    "The stabilizer of single-qubit GHZ state is $X$, so destabilizer is $Z$."
   ]
  },
  {
   "cell_type": "code",
   "execution_count": 62,
   "id": "bf3b1691-3a2d-451e-9125-752566b46011",
   "metadata": {},
   "outputs": [
    {
     "name": "stdout",
     "output_type": "stream",
     "text": [
      "qutip: Quantum object: dims = [[2], [2]], shape = (2, 2), type = oper, isherm = True\n",
      "Qobj data =\n",
      "[[0.5 0.5]\n",
      " [0.5 0.5]] chi: {((0,), (0,)): 1.0}\n"
     ]
    }
   ],
   "source": [
    "ghz1 = pc.ghz_state(1)\n",
    "state = GeneralStabilizerState({((0,),(0,)):1.0},ghz1.gs,ghz1.ps)\n",
    "print(\"qutip:\",state.to_qutip(),\"chi:\",state.chi)"
   ]
  },
  {
   "cell_type": "code",
   "execution_count": 63,
   "id": "7dc6d1b0-0361-443b-ab6e-ae0ece6068e6",
   "metadata": {},
   "outputs": [
    {
     "name": "stdout",
     "output_type": "stream",
     "text": [
      "qutip: Quantum object: dims = [[2], [2]], shape = (2, 2), type = oper, isherm = True\n",
      "Qobj data =\n",
      "[[0.5       +0.j         0.35355339+0.35355339j]\n",
      " [0.35355339-0.35355339j 0.5       +0.j        ]] chi: {((0,), (0,)): (0.8535533905932737+0j), ((1,), (0,)): 0.3535533905932738j, ((0,), (1,)): -0.3535533905932738j, ((1,), (1,)): (0.14644660940672624+0j)}\n"
     ]
    }
   ],
   "source": [
    "phi = np.array([np.cos(np.pi/8)**2, 1j*np.sin(np.pi/8)*np.cos(np.pi/8),\\\n",
    "                -1j*np.sin(np.pi/8)*np.cos(np.pi/8), np.sin(np.pi/8)**2], dtype=np.complex_)\n",
    "pl = [\n",
    "np.array([0,0]),np.array([0,1]),np.array([0,0]),np.array([0,1])\n",
    "]\n",
    "pr = [\n",
    "np.array([0,0]),np.array([0,0]),np.array([0,1]),np.array([0,1])\n",
    "]\n",
    "\n",
    "state.pauli_chnl_evol(phi,pl,pr)\n",
    "print('qutip:',state.to_qutip(),'chi:',state.chi)"
   ]
  },
  {
   "cell_type": "markdown",
   "id": "5074dfda-75b6-46a7-bbe1-52800088eb1b",
   "metadata": {},
   "source": [
    "#### two-qubit GHZ"
   ]
  },
  {
   "cell_type": "markdown",
   "id": "eb793815-50be-4fc0-8f56-5f3d3765eda1",
   "metadata": {},
   "source": [
    "$$\\rho=\\begin{pmatrix}1/2 &  &  & 1/2\\\\\n",
    "\\\\\n",
    "\\\\\n",
    "1/2 &  &  & 1/2\n",
    "\\end{pmatrix}$$"
   ]
  },
  {
   "cell_type": "code",
   "execution_count": 64,
   "id": "1a46636d-383d-4f6f-a2b4-5b567c369a1a",
   "metadata": {},
   "outputs": [
    {
     "name": "stdout",
     "output_type": "stream",
     "text": [
      "qutip:\n",
      " Quantum object: dims = [[2, 2], [2, 2]], shape = (4, 4), type = oper, isherm = True\n",
      "Qobj data =\n",
      "[[0.5 0.  0.  0.5]\n",
      " [0.  0.  0.  0. ]\n",
      " [0.  0.  0.  0. ]\n",
      " [0.5 0.  0.  0.5]] \n",
      " chi: {((0, 0), (0, 0)): 1.0}\n"
     ]
    }
   ],
   "source": [
    "ghz2 = pc.ghz_state(2)\n",
    "state = GeneralStabilizerState({((0,0),(0,0)):1.0},ghz2.gs,ghz2.ps)\n",
    "print(\"qutip:\\n\",state.to_qutip(),\"\\n chi:\",state.chi)"
   ]
  },
  {
   "cell_type": "markdown",
   "id": "40b40037-b190-4d38-8eb3-9e65809ef4b0",
   "metadata": {},
   "source": [
    "$$(T\\otimes I)^\\dagger \\rho (T\\otimes I)=\\begin{pmatrix}1/2 &  &  & e^{i\\pi/4}/2\\\\\n",
    "\\\\\n",
    "\\\\\n",
    "e^{-i\\pi/4}/2 &  &  & 1/2\n",
    "\\end{pmatrix}$$"
   ]
  },
  {
   "cell_type": "code",
   "execution_count": 65,
   "id": "bf5d8ba7-21ea-4915-b041-0fd78c0d4d9f",
   "metadata": {},
   "outputs": [
    {
     "name": "stdout",
     "output_type": "stream",
     "text": [
      "qutip:\n",
      " Quantum object: dims = [[2, 2], [2, 2]], shape = (4, 4), type = oper, isherm = True\n",
      "Qobj data =\n",
      "[[0.5       +0.j         0.        +0.j         0.        +0.j\n",
      "  0.35355339+0.35355339j]\n",
      " [0.        +0.j         0.        +0.j         0.        +0.j\n",
      "  0.        +0.j        ]\n",
      " [0.        +0.j         0.        +0.j         0.        +0.j\n",
      "  0.        +0.j        ]\n",
      " [0.35355339-0.35355339j 0.        +0.j         0.        +0.j\n",
      "  0.5       +0.j        ]] \n",
      " chi: {((0, 0), (0, 0)): (0.8535533905932737+0j), ((0, 1), (0, 0)): 0.3535533905932738j, ((0, 0), (0, 1)): -0.3535533905932738j, ((0, 1), (0, 1)): (0.14644660940672624+0j)}\n"
     ]
    }
   ],
   "source": [
    "phi = np.array([np.cos(np.pi/8)**2, 1j*np.sin(np.pi/8)*np.cos(np.pi/8),\\\n",
    "                -1j*np.sin(np.pi/8)*np.cos(np.pi/8), np.sin(np.pi/8)**2], dtype=np.complex_)\n",
    "pl = [\n",
    "np.array([0,0,0,0]),np.array([0,1,0,0]),np.array([0,0,0,0]),np.array([0,1,0,0])\n",
    "]\n",
    "pr = [\n",
    "np.array([0,0,0,0]),np.array([0,0,0,0]),np.array([0,1,0,0]),np.array([0,1,0,0])\n",
    "]\n",
    "\n",
    "state.pauli_chnl_evol(phi,pl,pr)\n",
    "print(\"qutip:\\n\",state.to_qutip(),\"\\n chi:\",state.chi)"
   ]
  },
  {
   "cell_type": "markdown",
   "id": "b484571a-3f8f-461c-aac7-1c4884c247ff",
   "metadata": {},
   "source": [
    "#### single-qubit random"
   ]
  },
  {
   "cell_type": "code",
   "execution_count": 70,
   "id": "58573754-c00c-495c-877e-00e9ac1feb6d",
   "metadata": {},
   "outputs": [
    {
     "name": "stdout",
     "output_type": "stream",
     "text": [
      "map: CliffordMap(\n",
      "  X0-> +Z\n",
      "  Z0-> +Y) qutip: Quantum object: dims = [[2], [2]], shape = (2, 2), type = oper, isherm = True\n",
      "Qobj data =\n",
      "[[0.5+0.j  0. -0.5j]\n",
      " [0. +0.5j 0.5+0.j ]] chi: {((0,), (0,)): 1.0}\n"
     ]
    }
   ],
   "source": [
    "rdn1 = pc.random_clifford_state(1)\n",
    "state = GeneralStabilizerState({((0,),(0,)):1.0},rdn1.gs,rdn1.ps)\n",
    "print(\"map:\",rdn1.to_map(),\"qutip:\",state.to_qutip(),\"chi:\",state.chi)"
   ]
  },
  {
   "cell_type": "markdown",
   "id": "ea41c1b1-c076-482a-94b6-ad7596b8c7e4",
   "metadata": {},
   "source": [
    "So, stabilizer is $Y$, destabilizer is $Z$.\n",
    "\n",
    "$$T^\\dagger \\rho T=\\begin{pmatrix}1/2 & e^{-i\\pi/4}/2\\\\\n",
    "e^{i\\pi/4}/2 & 1/2\n",
    "\\end{pmatrix}$$"
   ]
  },
  {
   "cell_type": "code",
   "execution_count": 71,
   "id": "499fef1e-b816-474a-b37c-a330a0a833e6",
   "metadata": {},
   "outputs": [
    {
     "name": "stdout",
     "output_type": "stream",
     "text": [
      "qutip: Quantum object: dims = [[2], [2]], shape = (2, 2), type = oper, isherm = True\n",
      "Qobj data =\n",
      "[[0.5       +0.j         0.35355339-0.35355339j]\n",
      " [0.35355339+0.35355339j 0.5       +0.j        ]] chi: {((0,), (0,)): (0.8535533905932737+0j), ((1,), (0,)): 0.3535533905932738j, ((0,), (1,)): -0.3535533905932738j, ((1,), (1,)): (0.14644660940672624+0j)}\n"
     ]
    }
   ],
   "source": [
    "phi = np.array([np.cos(np.pi/8)**2, 1j*np.sin(np.pi/8)*np.cos(np.pi/8),\\\n",
    "                -1j*np.sin(np.pi/8)*np.cos(np.pi/8), np.sin(np.pi/8)**2], dtype=np.complex_)\n",
    "pl = [\n",
    "np.array([0,0]),np.array([0,1]),np.array([0,0]),np.array([0,1])\n",
    "]\n",
    "pr = [\n",
    "np.array([0,0]),np.array([0,0]),np.array([0,1]),np.array([0,1])\n",
    "]\n",
    "\n",
    "state.pauli_chnl_evol(phi,pl,pr)\n",
    "print('qutip:',state.to_qutip(),'chi:',state.chi)"
   ]
  },
  {
   "cell_type": "markdown",
   "id": "bf60658e-959a-4757-b78f-9fec354f6eae",
   "metadata": {},
   "source": [
    "#### two-qubit random\n",
    "\n",
    "$$\\rho=\\frac{1}{4}\\begin{pmatrix}1 & -i & -1 & -i\\\\\n",
    "i & 1 & -i & 1\\\\\n",
    "-1 & i & 1 & i\\\\\n",
    "i & 1 & -i & 1\n",
    "\\end{pmatrix}$$"
   ]
  },
  {
   "cell_type": "code",
   "execution_count": null,
   "id": "9916d84e-4449-488f-9589-794353f887a6",
   "metadata": {},
   "outputs": [
    {
     "name": "stdout",
     "output_type": "stream",
     "text": [
      "map: CliffordMap(\n",
      "  X0-> +XX\n",
      "  Z0-> +YX\n",
      "  X1-> +IX\n",
      "  Z1-> +ZY) qutip: Quantum object: dims = [[2, 2], [2, 2]], shape = (4, 4), type = oper, isherm = True\n",
      "Qobj data =\n",
      "[[ 0.25+0.j    0.  -0.25j -0.25+0.j    0.  -0.25j]\n",
      " [ 0.  +0.25j  0.25+0.j    0.  -0.25j  0.25+0.j  ]\n",
      " [-0.25+0.j    0.  +0.25j  0.25+0.j    0.  +0.25j]\n",
      " [ 0.  +0.25j  0.25+0.j    0.  -0.25j  0.25+0.j  ]] chi: {((0, 0), (0, 0)): 1.0}\n"
     ]
    }
   ],
   "source": [
    "rdn2 = pc.random_clifford_state(2)\n",
    "state = GeneralStabilizerState({((0,0),(0,0)):1.0},rdn2.gs,rdn2.ps)\n",
    "print(\"map:\",rdn2.to_map(),\"qutip:\",state.to_qutip(),\"chi:\",state.chi)"
   ]
  },
  {
   "cell_type": "markdown",
   "id": "77f6b98c-b21b-4522-ae5e-35560cc11bb3",
   "metadata": {},
   "source": [
    "$$(T\\otimes I)^\\dagger \\rho (T\\otimes I)=\\begin{pmatrix}0.25 & -0.25i & -0.176777-0.176777i & 0.176777-0.176777i\\\\\n",
    "0.25i & 0.25 & 0.176777-0.176777i & 0.176777+0.176777i\\\\\n",
    "-0.176777+0.176777i & 0.176777+0.176777i & 0.25 & 0.25i\\\\\n",
    "0.176777+0.176777i & 0.176777-0.176777i & -0.25i & 0.25\n",
    "\\end{pmatrix}$$"
   ]
  },
  {
   "cell_type": "code",
   "execution_count": 75,
   "id": "824ac503-54c4-4ddb-86a6-213c5d6d9bb6",
   "metadata": {},
   "outputs": [
    {
     "name": "stdout",
     "output_type": "stream",
     "text": [
      "qutip:\n",
      " Quantum object: dims = [[2, 2], [2, 2]], shape = (4, 4), type = oper, isherm = True\n",
      "Qobj data =\n",
      "[[ 0.25     +0.j         0.       -0.25j      -0.1767767-0.1767767j\n",
      "   0.1767767-0.1767767j]\n",
      " [ 0.       +0.25j       0.25     +0.j         0.1767767-0.1767767j\n",
      "   0.1767767+0.1767767j]\n",
      " [-0.1767767+0.1767767j  0.1767767+0.1767767j  0.25     +0.j\n",
      "   0.       +0.25j     ]\n",
      " [ 0.1767767+0.1767767j  0.1767767-0.1767767j  0.       -0.25j\n",
      "   0.25     +0.j       ]] \n",
      " chi: {((0, 0), (0, 0)): (0.8535533905932737+0j), ((1, 0), (0, 0)): (0.3535533905932738-0j), ((0, 0), (1, 0)): (0.3535533905932738+0j), ((1, 0), (1, 0)): (0.14644660940672624+0j)}\n"
     ]
    }
   ],
   "source": [
    "phi = np.array([np.cos(np.pi/8)**2, 1j*np.sin(np.pi/8)*np.cos(np.pi/8),\\\n",
    "                -1j*np.sin(np.pi/8)*np.cos(np.pi/8), np.sin(np.pi/8)**2], dtype=np.complex_)\n",
    "pl = [\n",
    "np.array([0,0,0,0]),np.array([0,1,0,0]),np.array([0,0,0,0]),np.array([0,1,0,0])\n",
    "]\n",
    "pr = [\n",
    "np.array([0,0,0,0]),np.array([0,0,0,0]),np.array([0,1,0,0]),np.array([0,1,0,0])\n",
    "]\n",
    "\n",
    "state.pauli_chnl_evol(phi,pl,pr)\n",
    "print(\"qutip:\\n\",state.to_qutip(),\"\\n chi:\",state.chi)"
   ]
  },
  {
   "cell_type": "markdown",
   "id": "ebe545d5-db29-4f67-97c3-8dfab4c45df7",
   "metadata": {},
   "source": [
    "### Test usage of generalized stabilizer"
   ]
  },
  {
   "cell_type": "code",
   "execution_count": 14,
   "id": "f201c07b-099a-41d7-b52b-52e250e67fb5",
   "metadata": {},
   "outputs": [],
   "source": [
    "# creat generalized stabilizer\n",
    "h1 = (0, 1)\n",
    "h2 = (1, 0)\n",
    "key = (h1, h2)\n",
    "ele = 0.125\n",
    "chi = {key: ele,((0,0),(0,0)):0.1}\n",
    "\n",
    "ss = stabilizer.stabilizer_state(\"-ZZ\",\"XX\")\n",
    "gs = ss.gs\n",
    "ps = ss.ps\n",
    "gss = GeneralStabilizerState(chi, gs, ps)\n",
    "# (_, N2) = gs.shape\n",
    "# N = N2//2\n",
    "# ds = gs[N:2*N]"
   ]
  },
  {
   "cell_type": "code",
   "execution_count": 15,
   "id": "d8882863-b9b0-44f9-8e0d-2ae5b8eca4f4",
   "metadata": {},
   "outputs": [
    {
     "name": "stdout",
     "output_type": "stream",
     "text": [
      "((0, 1), (1, 0))\n",
      "((0, 0), (0, 0))\n"
     ]
    }
   ],
   "source": [
    "for k in chi.keys():\n",
    "    print(k)"
   ]
  },
  {
   "cell_type": "code",
   "execution_count": 16,
   "id": "b23fff71-0319-4e7e-ad9f-e63fc1ce5737",
   "metadata": {},
   "outputs": [],
   "source": [
    "# test Clifford rotation"
   ]
  },
  {
   "cell_type": "code",
   "execution_count": null,
   "id": "36a5e83a-49d1-43f7-a17e-86e4dbd2f9e3",
   "metadata": {},
   "outputs": [],
   "source": []
  },
  {
   "cell_type": "code",
   "execution_count": 17,
   "id": "dd639d79-5eb8-47ac-b50f-b58c2bb1a689",
   "metadata": {},
   "outputs": [
    {
     "name": "stdout",
     "output_type": "stream",
     "text": [
      "pm:  [0 0 0 1]\n",
      "gs:  [[0 1 0 1]\n",
      " [1 0 1 0]\n",
      " [0 0 1 0]\n",
      " [0 1 0 0]]\n",
      "ps:  [2 0 0 0]\n",
      "pm:  [0 0 1 0]\n",
      "gs:  [[0 1 0 1]\n",
      " [1 0 1 0]\n",
      " [0 0 1 0]\n",
      " [0 1 0 0]]\n",
      "ps:  [2 0 0 0]\n",
      "pm:  [0 1 0 0]\n",
      "gs:  [[0 1 0 1]\n",
      " [1 0 1 0]\n",
      " [0 0 1 0]\n",
      " [0 1 0 0]]\n",
      "ps:  [2 0 0 0]\n",
      "pm:  [1 0 0 0]\n",
      "gs:  [[0 1 0 1]\n",
      " [1 0 1 0]\n",
      " [0 0 1 0]\n",
      " [0 1 0 0]]\n",
      "ps:  [2 0 0 0]\n"
     ]
    }
   ],
   "source": [
    "# test Pauli channel evolution\n",
    "phi = np.array([0.25, 0.25, 0.25, 0.25], dtype=np.complex_)\n",
    "pl = [np.array([0,0,0,1]),np.array([0,0,1,0]),np.array([0,1,0,0]),np.array([1,0,0,0])]\n",
    "pr = [np.array([1,0,0,0]),np.array([0,1,0,0]),np.array([0,0,1,0]),np.array([0,0,0,1])]\n",
    " \n",
    "gss.pauli_chnl_evol(phi, pl, pr)"
   ]
  },
  {
   "cell_type": "code",
   "execution_count": 18,
   "id": "4bf30577-7945-4c83-855d-3a297db3c96a",
   "metadata": {},
   "outputs": [
    {
     "data": {
      "text/plain": [
       "{((0, 1), (1, 0)): (0.00048828125-0j), ((0, 0), (0, 0)): (0.000390625-0j)}"
      ]
     },
     "execution_count": 18,
     "metadata": {},
     "output_type": "execute_result"
    }
   ],
   "source": [
    "gss.chi"
   ]
  },
  {
   "cell_type": "code",
   "execution_count": 19,
   "id": "9106a451-9d9e-4318-b7fe-192479fb8dd7",
   "metadata": {},
   "outputs": [],
   "source": [
    "testList = np.zeros(4)"
   ]
  },
  {
   "cell_type": "code",
   "execution_count": 20,
   "id": "2749e5c3-c106-4f04-94f8-368d64ea930a",
   "metadata": {},
   "outputs": [
    {
     "data": {
      "text/plain": [
       "array([0., 0., 0., 0.])"
      ]
     },
     "execution_count": 20,
     "metadata": {},
     "output_type": "execute_result"
    }
   ],
   "source": [
    "testList"
   ]
  },
  {
   "cell_type": "code",
   "execution_count": 21,
   "id": "99274ae9-6fee-4201-b87c-608236b1b0fc",
   "metadata": {},
   "outputs": [],
   "source": [
    "# test Pauli expectation\n",
    "h1 = (0, 0)\n",
    "h2 = (0, 0)\n",
    "chi = {(h1, h2): 1}\n",
    "\n",
    "ss = stabilizer.stabilizer_state(\"-ZZ\",\"XX\")\n",
    "gss = GeneralStabilizerState(chi, ss.gs, ss.ps)"
   ]
  },
  {
   "cell_type": "code",
   "execution_count": 22,
   "id": "167ae030-d158-4614-8c26-44757b96996d",
   "metadata": {},
   "outputs": [
    {
     "data": {
      "text/plain": [
       "array([0, 0])"
      ]
     },
     "execution_count": 22,
     "metadata": {},
     "output_type": "execute_result"
    }
   ],
   "source": [
    "ss.expect(paulialg.paulis('IZ','-YX'))"
   ]
  },
  {
   "cell_type": "code",
   "execution_count": 23,
   "id": "89f526d4-8273-48cb-a507-644469e253d8",
   "metadata": {},
   "outputs": [
    {
     "data": {
      "text/plain": [
       "array([0.+0.j, 0.+0.j])"
      ]
     },
     "execution_count": 23,
     "metadata": {},
     "output_type": "execute_result"
    }
   ],
   "source": [
    "gss.pauli_expect(paulialg.paulis('IZ','-YX'))"
   ]
  }
 ],
 "metadata": {
  "kernelspec": {
   "display_name": "Python 3 (ipykernel)",
   "language": "python",
   "name": "python3"
  },
  "language_info": {
   "codemirror_mode": {
    "name": "ipython",
    "version": 3
   },
   "file_extension": ".py",
   "mimetype": "text/x-python",
   "name": "python",
   "nbconvert_exporter": "python",
   "pygments_lexer": "ipython3",
   "version": "3.9.12"
  }
 },
 "nbformat": 4,
 "nbformat_minor": 5
}
