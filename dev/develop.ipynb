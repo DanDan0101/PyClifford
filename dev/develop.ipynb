{
 "cells": [
  {
   "cell_type": "code",
   "execution_count": 3,
   "id": "61c7bab6-117c-49cb-8daf-508f8eb228d1",
   "metadata": {},
   "outputs": [],
   "source": [
    "# will autoupdate any of the packages imported:\n",
    "%load_ext autoreload\n",
    "%autoreload 2\n",
    "%matplotlib inline"
   ]
  },
  {
   "cell_type": "code",
   "execution_count": 4,
   "id": "4476ec7a-166b-4dda-9d97-ea593e24a9fd",
   "metadata": {},
   "outputs": [],
   "source": [
    "import sys\n",
    "sys.path.insert(0, '..')\n",
    "import numpy as np\n",
    "import matplotlib.pyplot as plt\n",
    "from numba import njit\n",
    "# import pyclifford\n",
    "from pyclifford import utils, paulialg, stabilizer\n",
    "from pyclifford.utils import acq, ipow, clifford_rotate, pauli_transform"
   ]
  },
  {
   "cell_type": "code",
   "execution_count": 5,
   "id": "29fe47f1-d3b0-45e8-8840-7ef146f771e1",
   "metadata": {},
   "outputs": [],
   "source": [
    "def decompose(g, gs, ps):\n",
    "    '''  Decompose a pauli string to phase*destabilizers*stabilizers\n",
    "    Parameters:\n",
    "    g: int(2*N) - the binary vector of a pauli string\n",
    "    gs: int(2*N,2*N) - the full tableau\n",
    "    ps: int(2*N) - phase of stabilizer and destabilizer\n",
    "    \n",
    "    Returns:\n",
    "    phase: int - phase in terms of imaginery power\n",
    "    b: int(N) - binary encoding of destabilizer decomposition\n",
    "    c: int(N) - binary encoding of stabilizer decomposition\n",
    "    '''\n",
    "    phase = 0\n",
    "    tmp_p = np.zeros_like(g)\n",
    "    N = gs.shape[0]//2\n",
    "    b = np.zeros(N).astype(int)\n",
    "    c = np.zeros(N).astype(int)\n",
    "    for i in range(N):\n",
    "        if acq(g,gs[i]): #anti-commute\n",
    "            b[i] = 1\n",
    "            phase = phase - ipow(tmp_p,gs[i+N]) + ps[i+N]\n",
    "            tmp_p = (tmp_p+gs[i+N])%2\n",
    "    for i in range(N):\n",
    "        if acq(g,gs[i+N]): #anti-commute\n",
    "            c[i] = 1\n",
    "            phase = phase - ipow(tmp_p,gs[i]) + ps[i]\n",
    "            tmp_p = (tmp_p+gs[i])%2\n",
    "    return phase%4, tmp_p, b, c"
   ]
  },
  {
   "cell_type": "markdown",
   "id": "63224cd4-6c86-4369-babb-00cd55a68ca2",
   "metadata": {},
   "source": [
    "The above function will decompose a pauli string into combination of destabilizer generators and stabilizer generators."
   ]
  },
  {
   "cell_type": "markdown",
   "id": "fe3de88f-9963-45bb-8257-f5260dbbe2b1",
   "metadata": {},
   "source": [
    "Let's see an example, if the stabilizer generators are $g_0=-ZZ$ and $g_1=XX$ and destabilizer generators are $d_0=IX$, $d_1=XI$."
   ]
  },
  {
   "cell_type": "code",
   "execution_count": 9,
   "id": "f9c8cd60-7411-428d-8544-fff494e54be9",
   "metadata": {},
   "outputs": [],
   "source": [
    "gs = stabilizer.stabilizer_state(\"-ZZ\",\"XX\").gs\n",
    "ps = stabilizer.stabilizer_state(\"-ZZ\",\"XX\").ps"
   ]
  },
  {
   "cell_type": "code",
   "execution_count": 10,
   "id": "e27dbaa3-046f-43b3-b77c-bc164b824a42",
   "metadata": {},
   "outputs": [
    {
     "data": {
      "text/plain": [
       "array([[0, 1, 0, 1],\n",
       "       [1, 0, 1, 0],\n",
       "       [0, 0, 1, 0],\n",
       "       [0, 1, 0, 0]])"
      ]
     },
     "execution_count": 10,
     "metadata": {},
     "output_type": "execute_result"
    }
   ],
   "source": [
    "gs"
   ]
  },
  {
   "cell_type": "code",
   "execution_count": 11,
   "id": "5e3a5c10-4f72-467f-9486-986c50f291d0",
   "metadata": {},
   "outputs": [
    {
     "data": {
      "text/plain": [
       "array([2, 0, 0, 0])"
      ]
     },
     "execution_count": 11,
     "metadata": {},
     "output_type": "execute_result"
    }
   ],
   "source": [
    "ps"
   ]
  },
  {
   "cell_type": "code",
   "execution_count": 12,
   "id": "26959e2c-4040-4a81-87b9-b0072752b8ec",
   "metadata": {},
   "outputs": [
    {
     "data": {
      "text/plain": [
       "(1, array([1, 0, 1, 1]), array([0, 1]), array([1, 1]))"
      ]
     },
     "execution_count": 12,
     "metadata": {},
     "output_type": "execute_result"
    }
   ],
   "source": [
    "decompose(np.array([1,0,1,1]),gs,ps)"
   ]
  },
  {
   "cell_type": "markdown",
   "id": "7de19914-73e2-45f0-b61d-7804a218adab",
   "metadata": {},
   "source": [
    "From the result, we see pauli string $XY$ can be decomposed as\n",
    "$$XY = i^1 d_0^0 d_1^1 g_0^1 g_1^1=i(XI)(-ZZ)(XX)$$"
   ]
  },
  {
   "cell_type": "code",
   "execution_count": 8,
   "id": "380a1525-59da-4ed9-ade3-26bb3353a7b6",
   "metadata": {},
   "outputs": [],
   "source": [
    "# def list2num(lst):\n",
    "#     return np.sum(2**np.arange(len(lst)) * np.array(list(reversed(lst))))\n",
    "\n",
    "# def num2list(num, N):\n",
    "#     assert num < 2**N\n",
    "#     return np.array(list(map(int, bin(num)[2:].zfill(N))))"
   ]
  },
  {
   "cell_type": "code",
   "execution_count": 6,
   "id": "c2bb9eca-ee64-442e-89d2-35adecbe506f",
   "metadata": {},
   "outputs": [],
   "source": [
    "class GeneralStabilizerState(object):\n",
    "    '''\n",
    "\n",
    "    Parameters:\n",
    "    chi: dictionary: keys are tuples of destabilizers\n",
    "    gs: int (2*N, 2*N) - strings of Pauli operators in the stabilizer tableau.\n",
    "    ps: int (2*N) - phase indicators (should only be 0 or 2).\n",
    "    '''\n",
    "    # def __init__(self, *args, **kwargs):\n",
    "    def __init__(self, chi, gs, ps):\n",
    "        self.chi = chi\n",
    "        self.gs = gs\n",
    "        self.ps = ps\n",
    "        \n",
    "    # def __repr__(self):\n",
    "    #     ''' will only show active stabilizers, \n",
    "    #         to see the full stabilizer tableau, convert to PauliList by [:] '''\n",
    "    #     subrepr = repr(self.stabilizers)\n",
    "    #     if subrepr == '':\n",
    "    #         return 'StabilizerState()'\n",
    "    #     else:\n",
    "    #         return 'StabilizerState(\\n{})'.format(subrepr).replace('\\n','\\n  ')\n",
    "\n",
    "    @property\n",
    "    def stabilizers(self):\n",
    "        return self[:self.N]\n",
    "\n",
    "    def rotate_by(self, generator, mask=None):\n",
    "        # perform Clifford transformation by Pauli generator (in-place)\n",
    "        if mask is None:\n",
    "            clifford_rotate(generator.g, generator.p, self.gs, self.ps)\n",
    "        else:\n",
    "            mask2 = numpy.repeat(mask,  2)\n",
    "            self.gs[:,mask2], self.ps = clifford_rotate(\n",
    "                generator.g, generator.p, self.gs[:,mask2], self.ps)\n",
    "        return self\n",
    "        \n",
    "    def transform_by(self, generator, mask=None):\n",
    "        # perform Clifford transformation by Clifford map (in-place)\n",
    "        if mask is None:\n",
    "            self.gs, self.ps = pauli_transform(self.gs, self.ps, \n",
    "                clifford_map.gs, clifford_map.ps)\n",
    "        else:\n",
    "            mask2 = numpy.repeat(mask, 2)\n",
    "            self.gs[:,mask2], self.ps = pauli_transform(\n",
    "                self.gs[:,mask2], self.ps, clifford_map.gs, clifford_map.ps)\n",
    "        return self\n",
    "    \n",
    "    def single_pauli_channel(self, phi, PauliLeft, PauliRight):\n",
    "        '''\n",
    "        perform: rho -> phi*PauliLeft*rho*PauliRight^dagger\n",
    "        \n",
    "        parameters:\n",
    "        PauliLeft: (2*N) binary vector\n",
    "        PauliRight: (2*N) binary vector\n",
    "        '''\n",
    "        dict_copy = self.chi.copy()\n",
    "        # perform general clifford channel\n",
    "        phase_left, _, b_left, c_left = decompose(PauliLeft,self.gs,self.ps)\n",
    "        phase_right, _, b_right, c_right = decompose(PauliRight, self.gs, self.ps)\n",
    "        for k in dict_copy.keys():\n",
    "            i_index = k[0]\n",
    "            j_index = k[1]\n",
    "            new_value = dict_copy[k]*phi*(1j)**(phase_left)*(1j)**(4-phase_right)*\\\n",
    "            (-1)**(np.dot(c_left,np.array(i_index))+np.dot(c_right,np.array(j_index)))\n",
    "            new_key_left = tuple((b_left+np.array(i_index))%2)\n",
    "            new_key_right = tuple((b_right+np.array(j_index))%2)\n",
    "        "
   ]
  },
  {
   "cell_type": "code",
   "execution_count": 25,
   "id": "211dad6d-18f6-4734-8e8a-d6582dd8177b",
   "metadata": {},
   "outputs": [
    {
     "data": {
      "text/plain": [
       "(0, 1)"
      ]
     },
     "execution_count": 25,
     "metadata": {},
     "output_type": "execute_result"
    }
   ],
   "source": [
    "tuple(np.array((0,1)))"
   ]
  },
  {
   "cell_type": "code",
   "execution_count": 15,
   "id": "e7689d9d-a0f1-45ab-a38d-7c3fdff284fc",
   "metadata": {},
   "outputs": [],
   "source": [
    "def dictionary_add(dict1, dict2):\n",
    "    for k in dict2.keys():\n",
    "        if k in dict1:\n",
    "            dict1[k] = dict1[k] + dict2[k]\n",
    "        else:\n",
    "            dict1[k] = dict2[k]\n",
    "    return dict1"
   ]
  },
  {
   "cell_type": "code",
   "execution_count": 18,
   "id": "e85f3caa-70f1-403b-b609-29ed50c9fd47",
   "metadata": {},
   "outputs": [],
   "source": [
    "dict1 = {}\n",
    "dict2 = {}\n",
    "dict1[((0,0),(0,0))]=0.1\n",
    "dict1[((0,1),(1,0))]=0.2\n",
    "dict2[((0,0),(0,0))]=0.1j\n",
    "dict2[((0,0),(1,0))]=0.2"
   ]
  },
  {
   "cell_type": "code",
   "execution_count": 19,
   "id": "1ea74309-2ef1-4746-9c62-88bc71a9caaf",
   "metadata": {},
   "outputs": [
    {
     "data": {
      "text/plain": [
       "{((0, 0), (0, 0)): (0.1+0.1j), ((0, 1), (1, 0)): 0.2, ((0, 0), (1, 0)): 0.2}"
      ]
     },
     "execution_count": 19,
     "metadata": {},
     "output_type": "execute_result"
    }
   ],
   "source": [
    "dictionary_add(dict1,dict2)"
   ]
  },
  {
   "cell_type": "markdown",
   "id": "ebe545d5-db29-4f67-97c3-8dfab4c45df7",
   "metadata": {},
   "source": [
    "### Test usage of generalized stabilizer"
   ]
  },
  {
   "cell_type": "code",
   "execution_count": null,
   "id": "24b15e7c-e2c5-44e9-bf4d-009ece193737",
   "metadata": {},
   "outputs": [],
   "source": []
  },
  {
   "cell_type": "code",
   "execution_count": 13,
   "id": "f201c07b-099a-41d7-b52b-52e250e67fb5",
   "metadata": {},
   "outputs": [],
   "source": [
    "# test\n",
    "h1 = (0, 0, 0, 0)\n",
    "h2 = (0, 0, 0, 0)\n",
    "key = (h1,h2)\n",
    "ele = 0.125\n",
    "chi = {key: ele}\n",
    "\n",
    "ss = stabilizer.stabilizer_state(\"ZIII\",\"IZII\",\"IIZI\",\"IIIZ\")\n",
    "gs = ss.gs\n",
    "ps = ss.ps\n",
    "\n",
    "tmp = GeneralStabilizerState(chi, gs, ps)"
   ]
  },
  {
   "cell_type": "code",
   "execution_count": 14,
   "id": "aff0f9bf-4802-4d2f-8648-c7b3f630da7b",
   "metadata": {},
   "outputs": [
    {
     "data": {
      "text/plain": [
       "True"
      ]
     },
     "execution_count": 14,
     "metadata": {},
     "output_type": "execute_result"
    }
   ],
   "source": [
    "key in chi"
   ]
  },
  {
   "cell_type": "code",
   "execution_count": 8,
   "id": "d8882863-b9b0-44f9-8e0d-2ae5b8eca4f4",
   "metadata": {},
   "outputs": [
    {
     "data": {
      "text/plain": [
       "{((0, 0, 0, 0), (0, 0, 0, 0)): 0.125}"
      ]
     },
     "execution_count": 8,
     "metadata": {},
     "output_type": "execute_result"
    }
   ],
   "source": [
    "tmp.chi"
   ]
  },
  {
   "cell_type": "code",
   "execution_count": 25,
   "id": "970b983d-0fd4-45ed-adb2-aa1e0b79b34e",
   "metadata": {},
   "outputs": [
    {
     "data": {
      "text/plain": [
       "array([[0, 1, 0, 0, 0, 0, 0, 0],\n",
       "       [0, 0, 0, 1, 0, 0, 0, 0],\n",
       "       [0, 0, 0, 0, 0, 1, 0, 0],\n",
       "       [0, 0, 0, 0, 0, 0, 0, 1],\n",
       "       [1, 0, 0, 0, 0, 0, 0, 0],\n",
       "       [0, 0, 1, 0, 0, 0, 0, 0],\n",
       "       [0, 0, 0, 0, 1, 0, 0, 0],\n",
       "       [0, 0, 0, 0, 0, 0, 1, 0]])"
      ]
     },
     "execution_count": 25,
     "metadata": {},
     "output_type": "execute_result"
    }
   ],
   "source": [
    "gss.gs"
   ]
  },
  {
   "cell_type": "code",
   "execution_count": 28,
   "id": "ebc0bd5f-a3bf-4c4d-994f-f22583072666",
   "metadata": {},
   "outputs": [],
   "source": [
    "h1 = (0, 1, 0, 0)\n",
    "h2 = (1, 0, 1, 0)\n",
    "key = (h1, h2)\n",
    "dic = {key: 0.125}"
   ]
  },
  {
   "cell_type": "code",
   "execution_count": 30,
   "id": "ee1e457c-e5df-431c-9d34-8efa9982e17a",
   "metadata": {},
   "outputs": [
    {
     "data": {
      "text/plain": [
       "array([0, 0, 1, 1, 0, 0, 1, 1, 0, 0])"
      ]
     },
     "execution_count": 30,
     "metadata": {},
     "output_type": "execute_result"
    }
   ],
   "source": [
    "mask = [0, 1, 0, 1, 0]\n",
    "mask2 = np.repeat(mask, 2)\n",
    "mask2"
   ]
  },
  {
   "cell_type": "code",
   "execution_count": null,
   "id": "f72bec55-7496-489d-affa-39e6e5f121b6",
   "metadata": {},
   "outputs": [],
   "source": []
  },
  {
   "cell_type": "code",
   "execution_count": null,
   "id": "79dd4eb9-9604-49df-8b0c-584a595d75e1",
   "metadata": {},
   "outputs": [],
   "source": []
  }
 ],
 "metadata": {
  "kernelspec": {
   "display_name": "Python 3 (ipykernel)",
   "language": "python",
   "name": "python3"
  },
  "language_info": {
   "codemirror_mode": {
    "name": "ipython",
    "version": 3
   },
   "file_extension": ".py",
   "mimetype": "text/x-python",
   "name": "python",
   "nbconvert_exporter": "python",
   "pygments_lexer": "ipython3",
   "version": "3.10.4"
  }
 },
 "nbformat": 4,
 "nbformat_minor": 5
}
