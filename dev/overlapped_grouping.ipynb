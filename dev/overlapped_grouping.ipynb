{
 "cells": [
  {
   "cell_type": "code",
   "execution_count": 1,
   "id": "4f9cf8b6-8671-4dba-9148-e11bda853a33",
   "metadata": {},
   "outputs": [],
   "source": [
    "# will autoupdate any of the packages imported:\n",
    "%load_ext autoreload\n",
    "%autoreload 2\n",
    "%matplotlib inline"
   ]
  },
  {
   "cell_type": "code",
   "execution_count": 2,
   "id": "5be9ec1f-1dc5-4763-b936-e2d7d1a42572",
   "metadata": {},
   "outputs": [],
   "source": [
    "import sys\n",
    "sys.path.insert(0, '..')\n",
    "import numpy as np\n",
    "import matplotlib.pyplot as plt\n",
    "import pyclifford as pc"
   ]
  },
  {
   "cell_type": "code",
   "execution_count": 3,
   "id": "64827488-6211-439b-8cc9-288a24ea2180",
   "metadata": {},
   "outputs": [],
   "source": [
    "from numba import njit"
   ]
  },
  {
   "cell_type": "code",
   "execution_count": 57,
   "id": "ea54c13b-1056-4a1e-81f5-bf696883e1ba",
   "metadata": {},
   "outputs": [],
   "source": [
    "import seaborn as sns\n",
    "sns.set_theme()"
   ]
  },
  {
   "cell_type": "code",
   "execution_count": 112,
   "id": "617642e5-4cb8-47e6-8e66-98b4d8d8e064",
   "metadata": {},
   "outputs": [
    {
     "name": "stdout",
     "output_type": "stream",
     "text": [
      "Done calculating qubit_op.\n",
      "Done calculating pyclifford Hamiltonian.\n",
      "Using pyscf ground state estimate\n",
      "converged SCF energy = -74.6602398552415\n"
     ]
    }
   ],
   "source": [
    "native_bond_length = (0.11779+0.47116)**2+0.75545**2\n",
    "ratio = 1.5/native_bond_length\n",
    "molecule = [[\"O\", [0.00000, 0.00000, 0.11779*ratio]], \\\n",
    "            [\"H\", [0.00000, 0.75545*ratio, -0.47116*ratio]],\\\n",
    "            [\"H\", [0.00000, -0.75545*ratio, -0.47116*ratio]]]\n",
    "# bond_len = 2.0\n",
    "# molecule = [[\"Cr\", [0, 0.0, 0]], [\"Cr\", [bond_len, 0, 0]]]\n",
    "pyc_h, E_exact,shift = pc.qchem_hamiltonian(molecule,use_pyscf=True)"
   ]
  },
  {
   "cell_type": "code",
   "execution_count": 113,
   "id": "776fda69-ea9e-46d1-b48c-7f7acc9ddfbe",
   "metadata": {},
   "outputs": [
    {
     "data": {
      "text/plain": [
       "(550, 20)"
      ]
     },
     "execution_count": 113,
     "metadata": {},
     "output_type": "execute_result"
    }
   ],
   "source": [
    "pyc_h.gs.shape"
   ]
  },
  {
   "cell_type": "code",
   "execution_count": 114,
   "id": "e1de00d5-c58a-4f92-a394-64995cbd8885",
   "metadata": {},
   "outputs": [],
   "source": [
    "@njit \n",
    "def compatible(g1, g2):\n",
    "    if g1.shape[0]!=g2.shape[0]:\n",
    "        raise ValueError(\"Two Pauli strings have different number of qubits.\")\n",
    "    N = g1.shape[0]//2\n",
    "    compatible = True\n",
    "    for ii in range(N):\n",
    "        if (g1[ii*2],g1[ii*2+1])!=(0,0):\n",
    "            if (g2[ii*2],g2[ii*2+1])!=(0,0):\n",
    "                if (g1[ii*2],g1[ii*2+1])!=(g2[ii*2],g2[ii*2+1]):\n",
    "                    compatible = False\n",
    "    return compatible\n",
    "@njit\n",
    "def union_pauli(g1,g2):\n",
    "    if compatible(g1,g2)==False:\n",
    "        raise ValueError(\"Non-compatible Pauli operators does not have union.\")\n",
    "    unions = np.zeros_like(g1)\n",
    "    N = g1.shape[0]//2\n",
    "    for ii in range(N):\n",
    "        if (g1[ii*2],g1[ii*2+1])==(g2[ii*2],g2[ii*2+1]):\n",
    "            unions[2*ii]=g1[2*ii]\n",
    "            unions[2*ii+1]=g1[2*ii+1]\n",
    "        else:\n",
    "            unions[2*ii]=g1[2*ii]+g2[2*ii]\n",
    "            unions[2*ii+1] = g1[2*ii+1]+g2[2*ii+1]\n",
    "    return unions"
   ]
  },
  {
   "cell_type": "code",
   "execution_count": 115,
   "id": "4b35d855-9a8e-4cfd-8d97-59e0d357f7cc",
   "metadata": {},
   "outputs": [
    {
     "data": {
      "text/plain": [
       "True"
      ]
     },
     "execution_count": 115,
     "metadata": {},
     "output_type": "execute_result"
    }
   ],
   "source": [
    "compatible(pc.pauli(\"ZIX\").g, pc.pauli(\"ZYX\").g)"
   ]
  },
  {
   "cell_type": "code",
   "execution_count": 116,
   "id": "08b3f262-fe9c-4631-b090-6089b2baaa84",
   "metadata": {},
   "outputs": [
    {
     "data": {
      "text/plain": [
       "array([0, 1, 1, 1, 1, 0])"
      ]
     },
     "execution_count": 116,
     "metadata": {},
     "output_type": "execute_result"
    }
   ],
   "source": [
    "union_pauli(pc.pauli(\"ZIX\").g, pc.pauli(\"ZYX\").g)"
   ]
  },
  {
   "cell_type": "code",
   "execution_count": 117,
   "id": "abc56077-47e8-49fd-9fc8-9e714f5fbd1a",
   "metadata": {},
   "outputs": [],
   "source": [
    "@njit\n",
    "def Overlap_Set(abs_H_cs, H_gs):\n",
    "    sort_idx = np.argsort(abs_H_cs)[::-1]\n",
    "    abs_alpha = abs_H_cs[sort_idx]\n",
    "    gs = H_gs[sort_idx]\n",
    "    terms = abs_H_cs.shape[0]\n",
    "    occupation = np.zeros(terms) # denote whether a pauli is in the set or not\n",
    "    Es = [] # set of obervables\n",
    "    Ps = [] # set of measurement basis\n",
    "    Ws = [] # initial weights\n",
    "    j = 0\n",
    "    s = 0\n",
    "    while j<terms: #np.sum(occupation)!=terms:\n",
    "        tmp_Ps=gs[j]\n",
    "        tmp_es = []\n",
    "        tmp_ws = 0\n",
    "        tmp_es.append(gs[j])\n",
    "        occupation[j]=1\n",
    "        tmp_ws += abs_alpha[j]\n",
    "        s += 1\n",
    "        for k in range(j+1,terms):\n",
    "            if compatible(gs[k],tmp_Ps): # if observable Q(k) is compatible with P(s)\n",
    "                tmp_es.append(gs[k])\n",
    "                occupation[k]=1\n",
    "                tmp_ws += abs_alpha[k]\n",
    "                tmp_Ps = union_pauli(tmp_Ps,gs[k])\n",
    "        for k in range(j):\n",
    "            if compatible(gs[k],tmp_Ps):\n",
    "                tmp_es.append(gs[k])\n",
    "                occupation[k]=1\n",
    "                tmp_ws += abs_alpha[k]\n",
    "                tmp_Ps = union_pauli(tmp_Ps,gs[k])\n",
    "        Ps.append(tmp_Ps)\n",
    "        Es.append(tmp_es)\n",
    "        Ws.append(tmp_ws)\n",
    "        # update j\n",
    "        still_leftover = False\n",
    "        for p in range(j+1,terms):\n",
    "            if occupation[p]==0:\n",
    "                j = p\n",
    "                still_leftover = True\n",
    "                break\n",
    "        if not still_leftover:\n",
    "            j = terms\n",
    "                \n",
    "    return Es, Ps, Ws"
   ]
  },
  {
   "cell_type": "code",
   "execution_count": 118,
   "id": "2e348ba0-5cdb-47d9-acc8-e6f8c1c430ea",
   "metadata": {},
   "outputs": [],
   "source": [
    "def translate_overlap_set(Es, Ps):\n",
    "    p_gs = []\n",
    "    for i in range(len(Ps)):\n",
    "        p_gs.append(Ps[i].tolist())\n",
    "    new_Ps = pc.paulialg.PauliList(gs = np.array(p_gs))\n",
    "    new_Es = []\n",
    "    for i in range(len(Es)):\n",
    "        tmp = []\n",
    "        for j in range(len(Es[i])):\n",
    "            tmp.append(Es[i][j].tolist())\n",
    "        new_Es.append(pc.paulialg.PauliList(gs=np.array(tmp)))\n",
    "    return new_Es, new_Ps"
   ]
  },
  {
   "cell_type": "code",
   "execution_count": 119,
   "id": "dfda0017-1b30-43d7-ba99-9e911e75c8c9",
   "metadata": {},
   "outputs": [
    {
     "data": {
      "text/plain": [
       "(550,)"
      ]
     },
     "execution_count": 119,
     "metadata": {},
     "output_type": "execute_result"
    }
   ],
   "source": [
    "abs(pyc_h.cs).shape"
   ]
  },
  {
   "cell_type": "code",
   "execution_count": 120,
   "id": "204435b7-69ff-4670-940a-e52cc9ba8f7d",
   "metadata": {},
   "outputs": [],
   "source": [
    "# H = 0.25*pc.pauli(\"XXI\")+0.25*pc.pauli(\"IXX\")+(1./12.)*pc.pauli(\"IXZ\")+(1./4.)*pc.pauli(\"IZZ\")\\\n",
    "# +(1./12.)*pc.pauli(\"ZIZ\")+(1./12.)*pc.pauli(\"XIZ\")"
   ]
  },
  {
   "cell_type": "code",
   "execution_count": 121,
   "id": "8a499787-d00f-4ed2-9030-7dd4729d81c8",
   "metadata": {},
   "outputs": [],
   "source": [
    "Es, Ps, Ws = Overlap_Set(abs(pyc_h.cs),pyc_h.gs)"
   ]
  },
  {
   "cell_type": "code",
   "execution_count": 122,
   "id": "1e513251-5d63-40de-876c-732062cce6fd",
   "metadata": {},
   "outputs": [],
   "source": [
    "Es, Ps = translate_overlap_set(Es,Ps)"
   ]
  },
  {
   "cell_type": "code",
   "execution_count": 124,
   "id": "7b5714d1-bf67-48d1-8e05-907bf5373135",
   "metadata": {},
   "outputs": [
    {
     "data": {
      "text/plain": [
       "174"
      ]
     },
     "execution_count": 124,
     "metadata": {},
     "output_type": "execute_result"
    }
   ],
   "source": [
    "len(Ps)"
   ]
  },
  {
   "cell_type": "code",
   "execution_count": 109,
   "id": "a83a120f-6e03-4621-a3b6-056abe4f4490",
   "metadata": {},
   "outputs": [],
   "source": [
    "total_terms = 0\n",
    "for i in range(len(Es)):\n",
    "    total_terms += Es[i].gs.shape[0]"
   ]
  },
  {
   "cell_type": "code",
   "execution_count": 110,
   "id": "f5c8baac-7507-467a-a9b1-2364ccde3843",
   "metadata": {},
   "outputs": [
    {
     "data": {
      "text/plain": [
       "1752379"
      ]
     },
     "execution_count": 110,
     "metadata": {},
     "output_type": "execute_result"
    }
   ],
   "source": [
    "total_terms"
   ]
  },
  {
   "cell_type": "code",
   "execution_count": 84,
   "id": "17b4b3a4-0fb6-4b4b-9a79-e1b9afd1469c",
   "metadata": {},
   "outputs": [
    {
     "data": {
      "text/plain": [
       "550"
      ]
     },
     "execution_count": 84,
     "metadata": {},
     "output_type": "execute_result"
    }
   ],
   "source": [
    "pyc_h.gs.shape[0]"
   ]
  },
  {
   "cell_type": "code",
   "execution_count": 132,
   "id": "9f9fadb3-5b6e-42ee-b755-599ccc32c6e2",
   "metadata": {},
   "outputs": [],
   "source": [
    "def test(a, *qubits):\n",
    "    print(a)\n",
    "    print(*qubits)"
   ]
  },
  {
   "cell_type": "code",
   "execution_count": 133,
   "id": "a505bc2e-41be-4362-8866-71a2582dde53",
   "metadata": {},
   "outputs": [
    {
     "name": "stdout",
     "output_type": "stream",
     "text": [
      "1\n",
      "2 3 4\n"
     ]
    }
   ],
   "source": [
    "test(1,2,3,4)"
   ]
  },
  {
   "cell_type": "code",
   "execution_count": null,
   "id": "aeb59ac3-2077-42ab-b82a-c48a75616197",
   "metadata": {},
   "outputs": [],
   "source": []
  }
 ],
 "metadata": {
  "kernelspec": {
   "display_name": "Python 3 (ipykernel)",
   "language": "python",
   "name": "python3"
  },
  "language_info": {
   "codemirror_mode": {
    "name": "ipython",
    "version": 3
   },
   "file_extension": ".py",
   "mimetype": "text/x-python",
   "name": "python",
   "nbconvert_exporter": "python",
   "pygments_lexer": "ipython3",
   "version": "3.9.12"
  }
 },
 "nbformat": 4,
 "nbformat_minor": 5
}
