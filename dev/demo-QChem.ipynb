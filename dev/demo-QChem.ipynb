{
 "cells": [
  {
   "cell_type": "code",
   "execution_count": 1,
   "id": "99bf34a0-0de1-4b2b-9fad-532b64213bdb",
   "metadata": {},
   "outputs": [],
   "source": [
    "# will autoupdate any of the packages imported:\n",
    "%load_ext autoreload\n",
    "%autoreload 2\n",
    "%matplotlib inline"
   ]
  },
  {
   "cell_type": "code",
   "execution_count": 2,
   "id": "1c89eb63-036b-443b-a048-6c0f881b6a0e",
   "metadata": {},
   "outputs": [],
   "source": [
    "import sys\n",
    "sys.path.insert(0, '..')\n",
    "import numpy as np\n",
    "import matplotlib.pyplot as plt\n",
    "import pyclifford as pc"
   ]
  },
  {
   "cell_type": "code",
   "execution_count": 3,
   "id": "139e1b8e-c100-4105-ab86-bb86dfc69396",
   "metadata": {},
   "outputs": [],
   "source": [
    "import seaborn as sns\n",
    "sns.set_theme()"
   ]
  },
  {
   "cell_type": "code",
   "execution_count": 9,
   "id": "f90b1f40-bba2-444f-8751-9d9a06b48713",
   "metadata": {},
   "outputs": [
    {
     "name": "stdout",
     "output_type": "stream",
     "text": [
      "Done calculating qubit_op.\n",
      "Done calculating pyclifford Hamiltonian.\n",
      "Using exact ground state\n"
     ]
    }
   ],
   "source": [
    "native_bond_length = (0.11779+0.47116)**2+0.75545**2\n",
    "ratio = 1.5/native_bond_length\n",
    "molecule = [[\"O\", [0.00000, 0.00000, 0.11779*ratio]],\\\n",
    "            [\"H\", [0.00000, 0.75545*ratio, -0.47116*ratio]], \\\n",
    "            [\"H\", [0.00000, -0.75545*ratio, -0.47116*ratio]]]\n",
    "pyc_h, E_exact,shift = pc.qchem_hamiltonian(molecule,use_pyscf=False)"
   ]
  },
  {
   "cell_type": "code",
   "execution_count": 10,
   "id": "c9036a41-b894-4099-8f71-04239ef05610",
   "metadata": {},
   "outputs": [
    {
     "name": "stdout",
     "output_type": "stream",
     "text": [
      "Exact_energy:  -74.85130927996278\n"
     ]
    }
   ],
   "source": [
    "print(\"Exact_energy: \",E_exact)"
   ]
  },
  {
   "cell_type": "code",
   "execution_count": 7,
   "id": "8e24b714-23c1-4ae8-9560-1ea30d44527c",
   "metadata": {},
   "outputs": [
    {
     "data": {
      "text/plain": [
       "1.11 IIIIIIIIIZ +0.15 IIIIIIIIZI +0.79 IIIIIIIIZZ +0.13 IIIIIIIZIZ +0.63 IIIIIIIZZI +0.11 IIIIIIIZZZ +0.01 IIIIIIIXYY +0.06 IIIIIIIYXY +0.01 IIIIIIIYYX +0.10 IIIIIIZIII"
      ]
     },
     "execution_count": 7,
     "metadata": {},
     "output_type": "execute_result"
    }
   ],
   "source": [
    "pyc_h[:10]"
   ]
  },
  {
   "cell_type": "code",
   "execution_count": null,
   "id": "483d2716-0406-4456-8aed-3a5d8a410ff7",
   "metadata": {},
   "outputs": [],
   "source": []
  }
 ],
 "metadata": {
  "kernelspec": {
   "display_name": "Python 3 (ipykernel)",
   "language": "python",
   "name": "python3"
  },
  "language_info": {
   "codemirror_mode": {
    "name": "ipython",
    "version": 3
   },
   "file_extension": ".py",
   "mimetype": "text/x-python",
   "name": "python",
   "nbconvert_exporter": "python",
   "pygments_lexer": "ipython3",
   "version": "3.9.12"
  }
 },
 "nbformat": 4,
 "nbformat_minor": 5
}
