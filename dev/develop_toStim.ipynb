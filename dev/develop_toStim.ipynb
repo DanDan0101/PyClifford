{
 "cells": [
  {
   "cell_type": "code",
   "execution_count": 1,
   "id": "bb9f76cb-7fa8-49c2-aba7-a08f046cbccd",
   "metadata": {},
   "outputs": [],
   "source": [
    "# will autoupdate any of the packages imported:\n",
    "%load_ext autoreload\n",
    "%autoreload 2\n",
    "%matplotlib inline"
   ]
  },
  {
   "cell_type": "code",
   "execution_count": 2,
   "id": "a4a93dfa-61cb-4d21-bc40-6bbee76cc528",
   "metadata": {},
   "outputs": [],
   "source": [
    "import sys\n",
    "sys.path.insert(0, '..')\n",
    "import numpy as np\n",
    "import matplotlib.pyplot as plt\n",
    "from numba import njit\n",
    "import pyclifford as pc"
   ]
  },
  {
   "cell_type": "code",
   "execution_count": 3,
   "id": "5d99890e-5f37-4b0b-b39d-e1f570d11e79",
   "metadata": {},
   "outputs": [],
   "source": [
    "import numpy\n",
    "from pyclifford.utils import mask, condense, pauli_diagonalize1,stabilizer_measure\n",
    "from pyclifford.paulialg import Pauli, pauli, PauliMonomial, pauli_zero\n",
    "from pyclifford.stabilizer import (StabilizerState, CliffordMap,\n",
    "    zero_state, identity_map, clifford_rotation_map, random_clifford_map)"
   ]
  },
  {
   "cell_type": "code",
   "execution_count": 4,
   "id": "2206f0cb-22a6-40bb-84a5-9a606cf34b88",
   "metadata": {},
   "outputs": [],
   "source": [
    "import stim"
   ]
  },
  {
   "cell_type": "code",
   "execution_count": 9,
   "id": "de432c42-6266-4194-acb9-1755d358b893",
   "metadata": {},
   "outputs": [
    {
     "data": {
      "text/plain": [
       "stim.Tableau.from_conjugated_generators(\n",
       "    xs=[\n",
       "        stim.PauliString(\"+ZXX\"),\n",
       "        stim.PauliString(\"+_X_\"),\n",
       "        stim.PauliString(\"+__X\"),\n",
       "    ],\n",
       "    zs=[\n",
       "        stim.PauliString(\"+X__\"),\n",
       "        stim.PauliString(\"+XZ_\"),\n",
       "        stim.PauliString(\"+X_Z\"),\n",
       "    ],\n",
       ")"
      ]
     },
     "execution_count": 9,
     "metadata": {},
     "output_type": "execute_result"
    }
   ],
   "source": [
    "s = stim.TableauSimulator()\n",
    "# create a GHZ state\n",
    "s.h(0)\n",
    "s.cnot(0, 1)\n",
    "s.cnot(0, 2)\n",
    "\n",
    "t = s.current_inverse_tableau()\n",
    "t"
   ]
  },
  {
   "cell_type": "code",
   "execution_count": 19,
   "id": "aabf7712-f39b-49f0-99be-2722c9fb142f",
   "metadata": {},
   "outputs": [
    {
     "data": {
      "text/plain": [
       "[False, False, False]"
      ]
     },
     "execution_count": 19,
     "metadata": {},
     "output_type": "execute_result"
    }
   ],
   "source": [
    "s.measure_many(0,1,2)"
   ]
  },
  {
   "cell_type": "code",
   "execution_count": 23,
   "id": "4aaaca7e-f466-4504-b487-3299d79b4e66",
   "metadata": {},
   "outputs": [],
   "source": [
    "c = stim.Circuit()\n",
    "c.append(\"H\", [0])\n",
    "for k in range(1, 30):\n",
    "    c.append(\"CNOT\", [0, k])\n",
    "c.append(\"M\", range(30))"
   ]
  },
  {
   "cell_type": "code",
   "execution_count": null,
   "id": "2fc3585e-eded-4006-9ab5-b16c5c3f2624",
   "metadata": {},
   "outputs": [],
   "source": []
  },
  {
   "cell_type": "code",
   "execution_count": null,
   "id": "a9e22e88-aea5-41f5-a02e-6fccb1b0d03e",
   "metadata": {},
   "outputs": [],
   "source": []
  },
  {
   "cell_type": "code",
   "execution_count": null,
   "id": "51bece5b-c17e-4c51-a44e-776b16c49611",
   "metadata": {},
   "outputs": [],
   "source": []
  },
  {
   "cell_type": "markdown",
   "id": "66ac4133-21c3-4015-87a2-abee3b298582",
   "metadata": {},
   "source": [
    "# Teleporation"
   ]
  },
  {
   "cell_type": "code",
   "execution_count": null,
   "id": "85008957-fd19-47d6-a953-66a7284c3f52",
   "metadata": {},
   "outputs": [],
   "source": [
    "s = stim.TableauSimulator()\n",
    "\n",
    "# Create a GHZ state.\n",
    "s.h(0)\n",
    "s.cnot(0, 1)\n",
    "s.cnot(0, 2)\n",
    "\n",
    "# Look at the simulator state re-inverted to be forwards:\n",
    "t = s.current_inverse_tableau()\n",
    "print(t**-1)\n",
    "# prints:\n",
    "# +-xz-xz-xz-\n",
    "# | ++ ++ ++\n",
    "# | ZX _Z _Z\n",
    "# | _X XZ __\n",
    "# | _X __ XZ\n",
    "\n",
    "# Measure the GHZ state.\n",
    "print(s.measure_many(0, 1, 2))\n",
    "# prints one of:\n",
    "# [True, True, True]\n",
    "# or:\n",
    "# [False, False, False]"
   ]
  },
  {
   "cell_type": "code",
   "execution_count": null,
   "id": "936b84de-b450-4c1a-99c3-6330253e6828",
   "metadata": {},
   "outputs": [],
   "source": []
  },
  {
   "cell_type": "code",
   "execution_count": null,
   "id": "77950800-ac4f-4d80-964f-2a245328df6d",
   "metadata": {},
   "outputs": [],
   "source": []
  },
  {
   "cell_type": "code",
   "execution_count": null,
   "id": "364f44bf-43ad-41f5-a294-504caa5bde33",
   "metadata": {},
   "outputs": [],
   "source": []
  }
 ],
 "metadata": {
  "kernelspec": {
   "display_name": "clifford",
   "language": "python",
   "name": "clifford"
  },
  "language_info": {
   "codemirror_mode": {
    "name": "ipython",
    "version": 3
   },
   "file_extension": ".py",
   "mimetype": "text/x-python",
   "name": "python",
   "nbconvert_exporter": "python",
   "pygments_lexer": "ipython3",
   "version": "3.9.12"
  }
 },
 "nbformat": 4,
 "nbformat_minor": 5
}
