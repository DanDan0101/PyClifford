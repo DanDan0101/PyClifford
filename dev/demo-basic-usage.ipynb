{
 "cells": [
  {
   "cell_type": "code",
   "execution_count": 1,
   "id": "5a9f5a72-cb83-4264-9588-1226fc2408ab",
   "metadata": {},
   "outputs": [],
   "source": [
    "# will autoupdate any of the packages imported:\n",
    "%load_ext autoreload\n",
    "%autoreload 2\n",
    "%matplotlib inline"
   ]
  },
  {
   "cell_type": "code",
   "execution_count": 2,
   "id": "2250fbad-2898-4618-b7c2-c1dd9ddad9db",
   "metadata": {},
   "outputs": [],
   "source": [
    "import sys\n",
    "sys.path.insert(0, '..')\n",
    "import numpy as np\n",
    "import matplotlib.pyplot as plt\n",
    "import pyclifford as pc"
   ]
  },
  {
   "cell_type": "code",
   "execution_count": 3,
   "id": "97355898-52ab-44ef-9990-d7b2f18f47f6",
   "metadata": {},
   "outputs": [],
   "source": [
    "from numba import njit\n",
    "import seaborn as sns\n",
    "sns.set_theme()"
   ]
  },
  {
   "cell_type": "code",
   "execution_count": 16,
   "id": "4b39938a-2e49-4fa7-a64e-d34a6b5fde94",
   "metadata": {},
   "outputs": [],
   "source": [
    "circ = pc.Circuit(5)\n",
    "circ.take(pc.H(0))\n",
    "for i in range(4):\n",
    "    circ.take(pc.CNOT(i,i+1))"
   ]
  },
  {
   "cell_type": "code",
   "execution_count": 17,
   "id": "8628a1eb-cc03-4a23-9297-f0525086cbd3",
   "metadata": {},
   "outputs": [
    {
     "data": {
      "text/plain": [
       "CliffordCircuit(\n",
       "  |[3,4]|\n",
       "  |[2,3]|\n",
       "  |[1,2]|\n",
       "  |[0,1]|\n",
       "  |[0]|)\n",
       " Unitary:True"
      ]
     },
     "execution_count": 17,
     "metadata": {},
     "output_type": "execute_result"
    }
   ],
   "source": [
    "circ"
   ]
  },
  {
   "cell_type": "code",
   "execution_count": 18,
   "id": "1f877774-8516-45de-8307-60b5a7bff529",
   "metadata": {},
   "outputs": [],
   "source": [
    "state = pc.zero_state(5)"
   ]
  },
  {
   "cell_type": "code",
   "execution_count": 19,
   "id": "553b8413-fcc5-407c-9919-2c67b6d5c5b1",
   "metadata": {},
   "outputs": [
    {
     "data": {
      "text/plain": [
       "StabilizerState(\n",
       "   +XXXXX\n",
       "   +ZZIII\n",
       "   +IZZII\n",
       "   +IIZZI\n",
       "   +IIIZZ)"
      ]
     },
     "execution_count": 19,
     "metadata": {},
     "output_type": "execute_result"
    }
   ],
   "source": [
    "circ.forward(state)"
   ]
  },
  {
   "cell_type": "code",
   "execution_count": null,
   "id": "4be7de33-fd4b-424d-a6b7-e31d4e0da166",
   "metadata": {},
   "outputs": [],
   "source": []
  }
 ],
 "metadata": {
  "kernelspec": {
   "display_name": "Python 3 (ipykernel)",
   "language": "python",
   "name": "python3"
  },
  "language_info": {
   "codemirror_mode": {
    "name": "ipython",
    "version": 3
   },
   "file_extension": ".py",
   "mimetype": "text/x-python",
   "name": "python",
   "nbconvert_exporter": "python",
   "pygments_lexer": "ipython3",
   "version": "3.9.12"
  }
 },
 "nbformat": 4,
 "nbformat_minor": 5
}
